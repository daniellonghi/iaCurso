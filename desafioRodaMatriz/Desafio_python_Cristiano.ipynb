{
 "cells": [
  {
   "cell_type": "code",
   "execution_count": 19,
   "metadata": {},
   "outputs": [],
   "source": [
    "# Function to rotate a matrix \n",
    "def rotateMatrix(mat): \n",
    "  \n",
    "    if not len(mat): \n",
    "        return\n",
    "      \n",
    "    \"\"\" \n",
    "        top : starting row index \n",
    "        bottom : ending row index \n",
    "        left : starting column index \n",
    "        right : ending column index \n",
    "    \"\"\"\n",
    "  \n",
    "    top = 0\n",
    "    bottom = len(mat)-1\n",
    "  \n",
    "    left = 0\n",
    "    right = len(mat[0])-1\n",
    "  \n",
    "    while left < right and top < bottom: \n",
    "  \n",
    "        # Store the first element of next row, \n",
    "        # this element will replace first element of \n",
    "        # current row \n",
    "        prev = mat[left][top+1] \n",
    "  \n",
    "        # Move elements of top row one step right \n",
    "        for i in range(left, right+1): \n",
    "            curr = mat[i][top] \n",
    "            mat[i][top] = prev \n",
    "            prev = curr \n",
    "  \n",
    "        top += 1\n",
    "  \n",
    "        # Move elements of rightmost column one step downwards \n",
    "        for i in range(top, bottom+1): \n",
    "            curr = mat[i][right] \n",
    "            mat[i][right] = prev \n",
    "            prev = curr \n",
    "  \n",
    "        right -= 1\n",
    "  \n",
    "        # Move elements of bottom row one step left \n",
    "        for i in range(right, left-1, -1): \n",
    "            curr = mat[i][bottom] \n",
    "            mat[i][bottom] = prev \n",
    "            prev = curr \n",
    "  \n",
    "        bottom -= 1\n",
    "  \n",
    "        # Move elements of leftmost column one step upwards \n",
    "        for i in range(bottom, top-1, -1): \n",
    "            curr = mat[i][left] \n",
    "            mat[i][left] = prev \n",
    "            prev = curr \n",
    "  \n",
    "        left += 1\n",
    "  \n",
    "    return mat "
   ]
  },
  {
   "cell_type": "code",
   "execution_count": 27,
   "metadata": {},
   "outputs": [
    {
     "name": "stdout",
     "output_type": "stream",
     "text": [
      "[1, 4, 5, 6]\n",
      "[12, 1, 4, 7]\n",
      "[1, 4, 1, 8]\n",
      "[12, 11, 10, 9]\n"
     ]
    }
   ],
   "source": [
    "# Funcao \n",
    "def printMatrix(mat): \n",
    "    for row in mat: \n",
    "        print (row) \n",
    "        \n",
    "matrix =[\n",
    "    [1, 2, 3, 4 ],\n",
    "    [12, 1, 2, 5 ],\n",
    "    [11, 4, 3, 6 ],\n",
    "    [10, 9, 8, 7 ]]\n",
    "k=2\n",
    "i=1\n",
    "\n",
    "while i <=k:\n",
    "    matrix = rotateMatrixRing(matrix)\n",
    "    i+=1 \n",
    "printMatrix(matrix)"
   ]
  },
  {
   "cell_type": "code",
   "execution_count": null,
   "metadata": {},
   "outputs": [],
   "source": []
  }
 ],
 "metadata": {
  "kernelspec": {
   "display_name": "Python 3",
   "language": "python",
   "name": "python3"
  },
  "language_info": {
   "codemirror_mode": {
    "name": "ipython",
    "version": 3
   },
   "file_extension": ".py",
   "mimetype": "text/x-python",
   "name": "python",
   "nbconvert_exporter": "python",
   "pygments_lexer": "ipython3",
   "version": "3.7.3"
  }
 },
 "nbformat": 4,
 "nbformat_minor": 2
}
