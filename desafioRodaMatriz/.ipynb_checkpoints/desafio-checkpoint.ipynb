{
 "cells": [
  {
   "cell_type": "code",
   "execution_count": 51,
   "metadata": {
    "scrolled": true
   },
   "outputs": [],
   "source": [
    "a=np.array([[1,2,3,4],[12,1,2,5],[11,4,3,6],[10,9,8,7]])"
   ]
  },
  {
   "cell_type": "code",
   "execution_count": 3,
   "metadata": {
    "scrolled": true
   },
   "outputs": [],
   "source": [
    "import numpy as np"
   ]
  },
  {
   "cell_type": "code",
   "execution_count": 5,
   "metadata": {
    "scrolled": true
   },
   "outputs": [],
   "source": [
    "max=3\n",
    "min=0"
   ]
  },
  {
   "cell_type": "code",
   "execution_count": 10,
   "metadata": {
    "collapsed": true,
    "scrolled": true
   },
   "outputs": [
    {
     "ename": "NameError",
     "evalue": "name 'a' is not defined",
     "output_type": "error",
     "traceback": [
      "\u001b[0;31m---------------------------------------------------------------------------\u001b[0m",
      "\u001b[0;31mNameError\u001b[0m                                 Traceback (most recent call last)",
      "\u001b[0;32m<ipython-input-10-bca0e2660b9f>\u001b[0m in \u001b[0;36m<module>\u001b[0;34m\u001b[0m\n\u001b[0;32m----> 1\u001b[0;31m \u001b[0mprint\u001b[0m\u001b[0;34m(\u001b[0m\u001b[0ma\u001b[0m\u001b[0;34m)\u001b[0m\u001b[0;34m\u001b[0m\u001b[0;34m\u001b[0m\u001b[0m\n\u001b[0m",
      "\u001b[0;31mNameError\u001b[0m: name 'a' is not defined"
     ]
    }
   ],
   "source": [
    "print(a)"
   ]
  },
  {
   "cell_type": "code",
   "execution_count": null,
   "metadata": {
    "collapsed": true,
    "scrolled": true
   },
   "outputs": [],
   "source": [
    "print(a[2,3])"
   ]
  },
  {
   "cell_type": "code",
   "execution_count": 54,
   "metadata": {
    "scrolled": true
   },
   "outputs": [
    {
     "name": "stdout",
     "output_type": "stream",
     "text": [
      "[[ 1  2  3  4]\n",
      " [12  1  2  5]\n",
      " [11  4  3  6]\n",
      " [10  9  8  7]]\n",
      "[[ 2  2  3 10]\n",
      " [ 2  1  2  4]\n",
      " [12  4  3  5]\n",
      " [11  9  8  8]]\n"
     ]
    }
   ],
   "source": [
    "print(a)\n",
    "b=0\n",
    "\n",
    "for j in range(len(a)):\n",
    "    for i in range(len(a)):\n",
    "   # print(i)\n",
    "\n",
    "    \n",
    "      #  print(len(a))\n",
    "      #  print(i,j)\n",
    "    \n",
    "        if (j==max or j==min) : #tratando os casos das colunas das pontas\n",
    "           # print('oi')\n",
    "        \n",
    "            if ([i,j]!=[min,min] and [i,j]!=[max,max]) : #tratando primeira linha (ultima coluna) ou ultima linha (primeira coluna)\n",
    "          #      print('alo')\n",
    "                while b==0 :\n",
    "                        if j==min :\n",
    "                            prev=a[i-1][min] \n",
    "                        else :\n",
    "                            prev=[i+1][max]\n",
    "                        b=1\n",
    "                \n",
    "                \n",
    "\n",
    "                curr=a[i][j]                   \n",
    "                a[i][j]=prev \n",
    "                prev=curr\n",
    "\n",
    "                    \n",
    "            else:   \n",
    "                #print('alo2')\n",
    "                # print('q')\n",
    "                if i==min :\n",
    "                    a[i][j]=a[i][j+1]\n",
    "                else :\n",
    "                    a[i][j]=a[i][j-1]  \n",
    "\n",
    "                \n",
    "              \n",
    "                    \n",
    "print(a)\n",
    "            \n",
    "    "
   ]
  },
  {
   "cell_type": "code",
   "execution_count": 17,
   "metadata": {
    "scrolled": true
   },
   "outputs": [
    {
     "name": "stdout",
     "output_type": "stream",
     "text": [
      "3\n"
     ]
    }
   ],
   "source": [
    "print (max)"
   ]
  },
  {
   "cell_type": "code",
   "execution_count": 18,
   "metadata": {
    "collapsed": true,
    "scrolled": true
   },
   "outputs": [],
   "source": [
    "j=max"
   ]
  },
  {
   "cell_type": "code",
   "execution_count": 19,
   "metadata": {
    "collapsed": true,
    "scrolled": true
   },
   "outputs": [
    {
     "name": "stdout",
     "output_type": "stream",
     "text": [
      "3\n"
     ]
    }
   ],
   "source": [
    "print(j)"
   ]
  },
  {
   "cell_type": "code",
   "execution_count": 5,
   "metadata": {
    "collapsed": true,
    "scrolled": true
   },
   "outputs": [
    {
     "ename": "NameError",
     "evalue": "name 'i' is not defined",
     "output_type": "error",
     "traceback": [
      "\u001b[0;31m---------------------------------------------------------------------------\u001b[0m",
      "\u001b[0;31mNameError\u001b[0m                                 Traceback (most recent call last)",
      "\u001b[0;32m<ipython-input-5-912fdf2e3ba1>\u001b[0m in \u001b[0;36m<module>\u001b[0;34m\u001b[0m\n\u001b[0;32m----> 1\u001b[0;31m \u001b[0mprint\u001b[0m\u001b[0;34m(\u001b[0m\u001b[0mi\u001b[0m\u001b[0;34m,\u001b[0m\u001b[0mj\u001b[0m\u001b[0;34m)\u001b[0m\u001b[0;34m\u001b[0m\u001b[0;34m\u001b[0m\u001b[0m\n\u001b[0m",
      "\u001b[0;31mNameError\u001b[0m: name 'i' is not defined"
     ]
    }
   ],
   "source": []
  },
  {
   "cell_type": "code",
   "execution_count": 38,
   "metadata": {
    "scrolled": true
   },
   "outputs": [
    {
     "name": "stdout",
     "output_type": "stream",
     "text": [
      "0 0\n",
      "23 10\n",
      "23 1\n",
      "23 10\n",
      "23 2\n",
      "23 10\n",
      "23 3\n",
      "23 10\n",
      "1 0\n",
      "23 10\n",
      "23 1\n",
      "23 10\n",
      "23 2\n",
      "23 10\n",
      "23 3\n",
      "23 10\n",
      "2 0\n",
      "23 10\n",
      "23 1\n",
      "23 10\n",
      "23 2\n",
      "23 10\n",
      "23 3\n",
      "23 10\n",
      "3 0\n",
      "23 10\n",
      "23 1\n",
      "23 10\n",
      "23 2\n",
      "23 10\n",
      "23 3\n",
      "23 10\n"
     ]
    }
   ],
   "source": [
    "for i in range(len(a)):\n",
    "    for j in range(len(a)):\n",
    "        print(i,j)\n",
    "        [i,j]=[min,max]\n",
    "        print(i,j)"
   ]
  },
  {
   "cell_type": "code",
   "execution_count": 16,
   "metadata": {
    "collapsed": true,
    "scrolled": true
   },
   "outputs": [
    {
     "name": "stdout",
     "output_type": "stream",
     "text": [
      "[[ 1  2  3  4]\n",
      " [12  1  2  5]\n",
      " [11  4  3  6]\n",
      " [10  9  8  7]]\n"
     ]
    }
   ],
   "source": [
    "print (a)"
   ]
  }
 ],
 "metadata": {
  "kernelspec": {
   "display_name": "Python [conda env:ambi] *",
   "language": "python",
   "name": "conda-env-ambi-py"
  },
  "language_info": {
   "codemirror_mode": {
    "name": "ipython",
    "version": 3
   },
   "file_extension": ".py",
   "mimetype": "text/x-python",
   "name": "python",
   "nbconvert_exporter": "python",
   "pygments_lexer": "ipython3",
   "version": "3.7.4"
  }
 },
 "nbformat": 4,
 "nbformat_minor": 2
}
