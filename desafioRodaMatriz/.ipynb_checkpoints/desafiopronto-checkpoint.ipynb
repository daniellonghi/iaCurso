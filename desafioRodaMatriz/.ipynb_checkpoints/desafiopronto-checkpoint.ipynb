{
 "cells": [
  {
   "cell_type": "code",
   "execution_count": 1,
   "metadata": {
    "scrolled": true
   },
   "outputs": [
    {
     "name": "stdout",
     "output_type": "stream",
     "text": [
      "[[ 1  2  3  4  5]\n",
      " [16  1  2  3  6]\n",
      " [15  8  1  4  7]\n",
      " [14  7  6  5  8]\n",
      " [13 12 11 10  9]]\n",
      "[[ 2  3  4  5  6]\n",
      " [ 1  2  3  4  7]\n",
      " [16  1  1  5  8]\n",
      " [15  8  7  6  9]\n",
      " [14 13 12 11 10]]\n"
     ]
    }
   ],
   "source": [
    "import numpy as np\n",
    "\n",
    "a=np.array([[1,2,3,4,5],[16,1,2,3,6],[15,8,1,4,7],[14,7,6,5,8],[13,12,11,10,9]])\n",
    "#a=np.array([[1,2,3,4],[12,1,2,5],[11,4,3,6],[10,9,8,7]])\n",
    "\n",
    "print(a)\n",
    "\n",
    "max=len(a)-1\n",
    "min=0\n",
    "while(max-min>=1):\n",
    "    for j in range(len(a)):\n",
    "        for i in range(len(a)):\n",
    "       # print(i)\n",
    "\n",
    "\n",
    "            #print(len(a))\n",
    "            #print(i,j)\n",
    "\n",
    "            if (i==min or i==max or j==min or j==max):\n",
    "                if ([i,j]==[min,min]) :\n",
    "                    #print(i,j)\n",
    "                    prev=a[min][min+1] #definindo como o anterior, o elemento da primeira linha mas da segunda coluna\n",
    "\n",
    "\n",
    "                    for i in range(min,max) :\n",
    "                        curr=a[i][min]\n",
    "                        a[i][min]=prev\n",
    "                        prev=curr\n",
    "\n",
    "                    for j in range(min,max) :\n",
    "                        curr=a[max][j]\n",
    "                        a[max][j]=prev\n",
    "                        prev=curr\n",
    "\n",
    "                    for i in range(max,min,-1) :\n",
    "                        curr=a[i][max]\n",
    "                        a[i][max]=prev\n",
    "                        prev=curr\n",
    "\n",
    "                    for j in range(max, min, -1) :\n",
    "                        curr=a[min][j]\n",
    "                        a[min][j]=prev\n",
    "                        prev=curr\n",
    "                    \n",
    "    min=min+1\n",
    "    max=max-1\n",
    "    #print(min)\n",
    "   # print(max)\n",
    "                \n",
    "\n",
    "\n",
    "                \n",
    "              \n",
    "                    \n",
    "print(a)"
   ]
  }
 ],
 "metadata": {
  "kernelspec": {
   "display_name": "Python 3",
   "language": "python",
   "name": "python3"
  },
  "language_info": {
   "codemirror_mode": {
    "name": "ipython",
    "version": 3
   },
   "file_extension": ".py",
   "mimetype": "text/x-python",
   "name": "python",
   "nbconvert_exporter": "python",
   "pygments_lexer": "ipython3",
   "version": "3.7.4"
  }
 },
 "nbformat": 4,
 "nbformat_minor": 2
}
