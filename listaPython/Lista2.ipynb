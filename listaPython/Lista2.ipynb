{
 "cells": [
  {
   "cell_type": "code",
   "execution_count": 3,
   "metadata": {},
   "outputs": [
    {
     "name": "stdout",
     "output_type": "stream",
     "text": [
      "10\n"
     ]
    }
   ],
   "source": [
    "def menorNumero(a,b):\n",
    "    if a < b:\n",
    "        return a\n",
    "    else:\n",
    "        return b\n",
    "\n",
    "print(menorNumero(10,20))"
   ]
  },
  {
   "cell_type": "code",
   "execution_count": 4,
   "metadata": {},
   "outputs": [
    {
     "name": "stdout",
     "output_type": "stream",
     "text": [
      "Digite sua idade: 2\n",
      "Digite seu peso: 3\n",
      "Digite horas dormidas: 2\n",
      "Nao pode doar\n"
     ]
    }
   ],
   "source": [
    "def pegaIdade(idade):\n",
    "    if int(idade) >= 16 and int(idade) <= 69:\n",
    "        return True\n",
    "    else:\n",
    "        return False\n",
    "\n",
    "def pegaPeso(peso):\n",
    "    if float(peso) > 50:\n",
    "        return True\n",
    "    else:\n",
    "        return False\n",
    "\n",
    "def horasDormidas(horas):\n",
    "    if int(horas) >= 6:\n",
    "        return True\n",
    "    else:\n",
    "        return False\n",
    "\n",
    "idade = pegaIdade(input(\"Digite sua idade: \"))\n",
    "peso = pegaPeso(input(\"Digite seu peso: \"))\n",
    "horas = horasDormidas(input(\"Digite horas dormidas: \"))\n",
    "\n",
    "if(idade and peso and horas):\n",
    "    print(\"Pode doar\")\n",
    "else:\n",
    "    print(\"Nao pode doar\")"
   ]
  },
  {
   "cell_type": "code",
   "execution_count": 1,
   "metadata": {},
   "outputs": [
    {
     "name": "stdout",
     "output_type": "stream",
     "text": [
      "Digite o valor de A: 1\n",
      "Digite o valor de B: 2\n",
      "Digite o valor de C: 3\n"
     ]
    },
    {
     "ename": "ValueError",
     "evalue": "math domain error",
     "output_type": "error",
     "traceback": [
      "\u001b[0;31m---------------------------------------------------------------------------\u001b[0m",
      "\u001b[0;31mValueError\u001b[0m                                Traceback (most recent call last)",
      "\u001b[0;32m<ipython-input-1-d88c1592aceb>\u001b[0m in \u001b[0;36m<module>\u001b[0;34m\u001b[0m\n\u001b[1;32m      7\u001b[0m \u001b[0mdelta\u001b[0m \u001b[0;34m=\u001b[0m \u001b[0;34m(\u001b[0m\u001b[0mint\u001b[0m\u001b[0;34m(\u001b[0m\u001b[0msegundoNumero\u001b[0m\u001b[0;34m)\u001b[0m \u001b[0;34m*\u001b[0m \u001b[0mint\u001b[0m\u001b[0;34m(\u001b[0m\u001b[0msegundoNumero\u001b[0m\u001b[0;34m)\u001b[0m \u001b[0;34m)\u001b[0m \u001b[0;34m-\u001b[0m \u001b[0;34m(\u001b[0m\u001b[0;36m4\u001b[0m \u001b[0;34m*\u001b[0m \u001b[0mint\u001b[0m\u001b[0;34m(\u001b[0m\u001b[0mprimeiroNumero\u001b[0m\u001b[0;34m)\u001b[0m \u001b[0;34m*\u001b[0m \u001b[0mint\u001b[0m\u001b[0;34m(\u001b[0m\u001b[0msegundoNumero\u001b[0m\u001b[0;34m)\u001b[0m\u001b[0;34m)\u001b[0m\u001b[0;34m\u001b[0m\u001b[0;34m\u001b[0m\u001b[0m\n\u001b[1;32m      8\u001b[0m \u001b[0;34m\u001b[0m\u001b[0m\n\u001b[0;32m----> 9\u001b[0;31m \u001b[0mprimeiraRaiz\u001b[0m \u001b[0;34m=\u001b[0m \u001b[0;34m(\u001b[0m\u001b[0mint\u001b[0m\u001b[0;34m(\u001b[0m\u001b[0msegundoNumero\u001b[0m\u001b[0;34m)\u001b[0m \u001b[0;34m*\u001b[0m \u001b[0;34m-\u001b[0m\u001b[0;36m1\u001b[0m\u001b[0;34m)\u001b[0m \u001b[0;34m+\u001b[0m \u001b[0;34m(\u001b[0m\u001b[0mmath\u001b[0m\u001b[0;34m.\u001b[0m\u001b[0msqrt\u001b[0m\u001b[0;34m(\u001b[0m\u001b[0mdelta\u001b[0m\u001b[0;34m)\u001b[0m \u001b[0;34m/\u001b[0m \u001b[0;36m2\u001b[0m \u001b[0;34m*\u001b[0m \u001b[0mprimeiroNumero\u001b[0m\u001b[0;34m)\u001b[0m\u001b[0;34m\u001b[0m\u001b[0;34m\u001b[0m\u001b[0m\n\u001b[0m\u001b[1;32m     10\u001b[0m \u001b[0msegundaRaiz\u001b[0m \u001b[0;34m=\u001b[0m \u001b[0;34m(\u001b[0m\u001b[0mint\u001b[0m\u001b[0;34m(\u001b[0m\u001b[0msegundoNumero\u001b[0m\u001b[0;34m)\u001b[0m \u001b[0;34m*\u001b[0m \u001b[0;34m-\u001b[0m\u001b[0;36m1\u001b[0m\u001b[0;34m)\u001b[0m \u001b[0;34m-\u001b[0m \u001b[0;34m(\u001b[0m\u001b[0mmath\u001b[0m\u001b[0;34m.\u001b[0m\u001b[0msqrt\u001b[0m\u001b[0;34m(\u001b[0m\u001b[0mdelta\u001b[0m\u001b[0;34m)\u001b[0m \u001b[0;34m/\u001b[0m \u001b[0;36m2\u001b[0m \u001b[0;34m*\u001b[0m \u001b[0mprimeiroNumero\u001b[0m\u001b[0;34m)\u001b[0m\u001b[0;34m\u001b[0m\u001b[0;34m\u001b[0m\u001b[0m\n\u001b[1;32m     11\u001b[0m \u001b[0;34m\u001b[0m\u001b[0m\n",
      "\u001b[0;31mValueError\u001b[0m: math domain error"
     ]
    }
   ],
   "source": [
    "import math\n",
    "\n",
    "primeiroNumero = input(\"Digite o valor de A: \")\n",
    "segundoNumero = input(\"Digite o valor de B: \")\n",
    "terceiroNumero = input(\"Digite o valor de C: \")\n",
    "\n",
    "delta = (int(segundoNumero) * int(segundoNumero) ) - (4 * int(primeiroNumero) * int(segundoNumero))\n",
    "\n",
    "primeiraRaiz = (int(segundoNumero) * -1) + (math.sqrt(delta) / 2 * primeiroNumero)\n",
    "segundaRaiz = (int(segundoNumero) * -1) - (math.sqrt(delta) / 2 * primeiroNumero)\n",
    "\n",
    "print (\"Primeira Raiz: \", primeiraRaiz)\n",
    "print (\"segunda Raiz: \", primeiraRaiz)"
   ]
  },
  {
   "cell_type": "code",
   "execution_count": 7,
   "metadata": {},
   "outputs": [
    {
     "name": "stdout",
     "output_type": "stream",
     "text": [
      "Digite um numero: 2\n",
      "Digite um numero: 3\n",
      "Numero final e  0.0\n"
     ]
    }
   ],
   "source": [
    "primeiroNumero = input(\"Digite um numero: \")\n",
    "segundoNumero = input(\"Digite um numero: \")\n",
    "\n",
    "if (float(primeiroNumero) + float(segundoNumero)) > 20:\n",
    "    print(\"Numero final e \", (float(primeiroNumero) + float(segundoNumero) + 8))\n",
    "else:\n",
    "   print(\"Numero final e \", (float(primeiroNumero) + float(segundoNumero) - 5))"
   ]
  },
  {
   "cell_type": "code",
   "execution_count": 11,
   "metadata": {},
   "outputs": [
    {
     "name": "stdout",
     "output_type": "stream",
     "text": [
      "Digite um numero: 144\n",
      "12.0\n"
     ]
    }
   ],
   "source": [
    "import math\n",
    "primeiroNumero = input(\"Digite um numero: \")\n",
    "\n",
    "if float(primeiroNumero) >= 0:\n",
    "    print(math.sqrt(float(primeiroNumero)))\n",
    "else:\n",
    "    print(float(primeiroNumero) * float(primeiroNumero))\n",
    "    "
   ]
  },
  {
   "cell_type": "code",
   "execution_count": null,
   "metadata": {},
   "outputs": [],
   "source": [
    "### inputNumero = 0\n",
    "while(float(inputNumero) < 1 or float(inputNumero) > 12):\n",
    "    inputNumero = input(\"Digite um numero entre 1 e 12:\")\n",
    "    print(\"Numero nao corresponde com nenhum mes.\")\n",
    "\n",
    "mesesAno = [\"Janeiro\", \"Fevereiro\", \"Marco\", \"Abril\", \"Maio\", \"Junho\", \"Julho\", \"Agosto\", \"Setembro\", \"Outubro\", \"Novembro\", \"Dezembro\"]\n",
    "    \n",
    "print(mesesAno[int(inputNumero)-1])\n",
    "    "
   ]
  }
 ],
 "metadata": {
  "kernelspec": {
   "display_name": "Python [conda env:ambDanielFiep] *",
   "language": "python",
   "name": "conda-env-ambDanielFiep-py"
  },
  "language_info": {
   "codemirror_mode": {
    "name": "ipython",
    "version": 3
   },
   "file_extension": ".py",
   "mimetype": "text/x-python",
   "name": "python",
   "nbconvert_exporter": "python",
   "pygments_lexer": "ipython3",
   "version": "3.7.4"
  }
 },
 "nbformat": 4,
 "nbformat_minor": 2
}
