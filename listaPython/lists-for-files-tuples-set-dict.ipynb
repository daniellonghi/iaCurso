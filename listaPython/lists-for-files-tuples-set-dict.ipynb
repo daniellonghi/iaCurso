{
 "cells": [
  {
   "cell_type": "code",
   "execution_count": 1,
   "metadata": {},
   "outputs": [
    {
     "name": "stdout",
     "output_type": "stream",
     "text": [
      "Saida sera: a Lista com os numeros\n",
      "[0, 1, [3]]\n",
      "Saida sera: a Lista com os numeros mais o 4 no 2 index\n",
      "[0, 1, [3, 4]]\n",
      "Saida sera: a Lista com o numero 2\n",
      "[0, 1, 2]\n"
     ]
    }
   ],
   "source": [
    "x = [0, 1, [2]]\n",
    "x[2][0] = 3\n",
    "print(\"Saida sera: a Lista com os numeros\")\n",
    "print (x)\n",
    "x[2].append(4)\n",
    "print(\"Saida sera: a Lista com os numeros mais o 4 no 2 index\")\n",
    "print (x)\n",
    "x[2] = 2\n",
    "print(\"Saida sera: a Lista com o numero 2\")\n",
    "print (x)"
   ]
  },
  {
   "cell_type": "code",
   "execution_count": 11,
   "metadata": {},
   "outputs": [
    {
     "name": "stdout",
     "output_type": "stream",
     "text": [
      "10\n"
     ]
    }
   ],
   "source": [
    "def somaArray(array):\n",
    "    sum = 0\n",
    "    for i in range(len(array)):\n",
    "        sum += array[i]\n",
    "    \n",
    "    return sum\n",
    "\n",
    "print(somaArray([1,2,3,4]))"
   ]
  },
  {
   "cell_type": "code",
   "execution_count": 13,
   "metadata": {},
   "outputs": [
    {
     "name": "stdout",
     "output_type": "stream",
     "text": [
      "hellowworld\n",
      "aabbcc\n"
     ]
    }
   ],
   "source": [
    "def somaArray(array):\n",
    "    sum = \"\"\n",
    "    for i in range(len(array)):\n",
    "        sum += array[i]\n",
    "    \n",
    "    return sum\n",
    "\n",
    "print(somaArray([\"hellow\",\"world\"]))\n",
    "print(somaArray([\"aa\", \"bb\", \"cc\"]))"
   ]
  },
  {
   "cell_type": "code",
   "execution_count": 26,
   "metadata": {},
   "outputs": [
    {
     "name": "stdout",
     "output_type": "stream",
     "text": [
      "720\n"
     ]
    }
   ],
   "source": [
    "def computeProducts(array):\n",
    "    sum = 0\n",
    "    for i in range(len(array)):\n",
    "        sum += array[i]\n",
    "    \n",
    "    return sum\n",
    "\n",
    "def fatorialNumber(x):\n",
    "    fatorial = 1\n",
    "    for i in range(x,0,-1):\n",
    "        fatorial*=i\n",
    "    return fatorial\n",
    "    \n",
    "print(fatorialNumber(computeProducts([1,2,3])))"
   ]
  },
  {
   "cell_type": "code",
   "execution_count": 63,
   "metadata": {},
   "outputs": [
    {
     "name": "stdout",
     "output_type": "stream",
     "text": [
      "[4, 3, 2, 1]\n",
      "4\n",
      "0\n"
     ]
    }
   ],
   "source": [
    "def reverseArray(vec):\n",
    "    invertVec = list(vec)\n",
    "    newVector = []\n",
    "    for i in range(len(invertVec)-1,-1,-1):\n",
    "        newVector.append(invertVec[i])\n",
    "        \n",
    "    return newVector\n",
    "\n",
    "def minVector(vec):\n",
    "    min = 0\n",
    "    for i in range(len(vec)):\n",
    "        if min <= vec[i]:\n",
    "            min = vec[i]\n",
    "    return min\n",
    "    \n",
    "def maxVector(vec):\n",
    "    max = 0\n",
    "    for i in range(len(vec)):\n",
    "        if max >= vec[i]:\n",
    "            max = vec[i]\n",
    "    return max\n",
    "\n",
    "print(reverseArray([1,2,3,4]))\n",
    "print(minVector([1,2,3,4]))\n",
    "print(maxVector([1,2,3,4]))"
   ]
  },
  {
   "cell_type": "code",
   "execution_count": 66,
   "metadata": {},
   "outputs": [
    {
     "name": "stdout",
     "output_type": "stream",
     "text": [
      "[1, 3, 6, 10]\n"
     ]
    }
   ],
   "source": [
    "def cumulativeFunction(vector):\n",
    "    newVector = []\n",
    "    indice = 0;\n",
    "    for i in range(len(vector)):\n",
    "        newVector.append(vector[i] + indice)\n",
    "        indice+=vector[i]\n",
    "    return newVector\n",
    "    \n",
    "\n",
    "print(cumulativeFunction([1,2,3,4]))"
   ]
  },
  {
   "cell_type": "code",
   "execution_count": 6,
   "metadata": {},
   "outputs": [
    {
     "name": "stdout",
     "output_type": "stream",
     "text": [
      "[1, 2, 6, 24, 120, 720, 5040]\n"
     ]
    }
   ],
   "source": [
    "def cumulativeProductFunction(vector):\n",
    "    newVector = []\n",
    "    multiply = 1;\n",
    "    for i in range(len(vector)):\n",
    "        newVector.append(vector[i] * multiply)\n",
    "        multiply *= vector[i]\n",
    "    return newVector\n",
    "    \n",
    "\n",
    "print(cumulativeProductFunction([1,2,3,4,5,6,7 ]))"
   ]
  },
  {
   "cell_type": "code",
   "execution_count": 2,
   "metadata": {},
   "outputs": [
    {
     "name": "stdout",
     "output_type": "stream",
     "text": [
      "[1, 2, 3, 5]\n"
     ]
    }
   ],
   "source": [
    "def findUnique(vector):\n",
    "    newVector = []\n",
    "    for i in range(len(vector)):\n",
    "        if vector[i] not in newVector:\n",
    "            newVector.append(vector[i])\n",
    "    return newVector\n",
    "\n",
    "print(findUnique([1,2,1,1,1,3,3,2,2,5,1]))"
   ]
  },
  {
   "cell_type": "code",
   "execution_count": 3,
   "metadata": {},
   "outputs": [
    {
     "name": "stdout",
     "output_type": "stream",
     "text": [
      "[1, 2, 3]\n"
     ]
    }
   ],
   "source": [
    "def findDup(vector):\n",
    "    newVector = []\n",
    "    for i in range(len(vector)):\n",
    "        for j in range(i, len(vector) -1):\n",
    "            if vector[i] == vector[j+1]:\n",
    "                if vector[i] not in newVector:\n",
    "                    newVector.append(vector[i])\n",
    "                    break\n",
    "    return newVector\n",
    "            \n",
    "print(findDup([1,2,1,1,1,3,3,2,2,5,1]))"
   ]
  },
  {
   "cell_type": "code",
   "execution_count": 139,
   "metadata": {},
   "outputs": [
    {
     "name": "stdout",
     "output_type": "stream",
     "text": [
      "0\n",
      "3\n",
      "6\n",
      "[[1, 2, 3], [4, 5, 6], [7, 8, 9]]\n"
     ]
    }
   ],
   "source": [
    "def splitList(arr, indice):\n",
    "    arrAll = []\n",
    "    arrItem = []\n",
    "    count = 0\n",
    "    for i in range(0, len(arr), indice):\n",
    "        print(i)\n",
    "        for j in range(i, (i+indice)):\n",
    "            arrItem.append(arr[j])\n",
    "        arrAll.append(arrItem)\n",
    "        #RESET arrItem\n",
    "        arrItem = []\n",
    "    return arrAll\n",
    "\n",
    "print (splitList([1, 2, 3, 4, 5, 6, 7, 8, 9], 3))\n",
    "\n",
    "\n",
    "#    >>> group()\n",
    "#   [[1, 2, 3], [4, 5, 6], [7, 8, 9]]"
   ]
  },
  {
   "cell_type": "code",
   "execution_count": 6,
   "metadata": {},
   "outputs": [
    {
     "name": "stdout",
     "output_type": "stream",
     "text": [
      "['c', 'ruby', 'java', 'perl', 'python', 'haskell']\n"
     ]
    }
   ],
   "source": [
    "import copy\n",
    "def lenSort(vector):\n",
    "    for i in range(len(vector)):\n",
    "        for j in range(i, len(vector)-1):\n",
    "            if len(vector[j+1]) <= len(vector[i]):\n",
    "                itemAux = vector[i]\n",
    "                vector[i] = vector[j+1]\n",
    "                vector[j+1] = itemAux\n",
    "    return vector\n",
    "    \n",
    "print(lenSort(['python', 'perl', 'java', 'c', 'haskell', 'ruby']))\n",
    "\n",
    "#>>> lensort(['python', 'perl', 'java', 'c', 'haskell', 'ruby'])\n",
    "#['c', 'perl', 'java', 'ruby', 'python', 'haskell']"
   ]
  },
  {
   "cell_type": "code",
   "execution_count": 22,
   "metadata": {},
   "outputs": [
    {
     "name": "stdout",
     "output_type": "stream",
     "text": [
      "['python', 'java']\n"
     ]
    }
   ],
   "source": [
    "import copy\n",
    "def uniqueString(vector):\n",
    "    vectorOriginal = copy.deepcopy(vector)\n",
    "    dupVector = []\n",
    "    for i in range(len(vector)):\n",
    "        for j in range(i, len(vector)-1):\n",
    "            if vector[j+1].lower() == vector[i].lower():\n",
    "                dupVector.append(vector[i])\n",
    "    return dupVector\n",
    "    \n",
    "print(uniqueString([\"python\", \"java\", \"Python\", \"Java\"]))\n",
    "\n",
    "#>>> unique([\"python\", \"java\", \"Python\", \"Java\"], key=lambda s: s.lower())\n",
    "#[\"python\", \"java\"]"
   ]
  },
  {
   "cell_type": "code",
   "execution_count": 48,
   "metadata": {},
   "outputs": [
    {
     "name": "stdout",
     "output_type": "stream",
     "text": [
      "Extensoes: ['.c', '.py', '.txt']\n",
      "['a.c', 'x.c', 'a.py', 'b.py', 'asd.txt', 'bar.txt', 'foo.txt']\n"
     ]
    }
   ],
   "source": [
    "import copy\n",
    "def sortExtension(vector):\n",
    "    vetorOriginal = copy.deepcopy(vector)\n",
    "    #Acha Extension por Splitting\n",
    "    vectorExtensionOnly = findUniqueExtSplit(vector)\n",
    "     #Ordena Extensions Splitted\n",
    "    vectorExtensionOnly = orderArray(vectorExtensionOnly)\n",
    "    print(\"Extensoes:\",vectorExtensionOnly)\n",
    "    ordenadoPorExtensao = []\n",
    "    for i in range(len(vectorExtensionOnly)):\n",
    "        for j in range(len(vector)):\n",
    "            if vectorExtensionOnly[i] in vector[j]:\n",
    "                ordenadoPorExtensao.append(vector[j])\n",
    "    \n",
    "    return ordenadoPorExtensao\n",
    "\n",
    "def orderArray(vector):\n",
    "    for i in range(len(vector)):\n",
    "        for j in range(i, len(vector)-1):\n",
    "            if vector[j+1] <= vector[i]:\n",
    "                itemAux = vector[i]\n",
    "                vector[i] = vector[j+1]\n",
    "                vector[j+1] = itemAux\n",
    "    return vector\n",
    "\n",
    "def findUniqueExtSplit(vector):\n",
    "    newVector = []\n",
    "    for i in range(len(vector)):\n",
    "        extItem = \".\" + vector[i].split(\".\")[1]\n",
    "        if extItem not in newVector:\n",
    "            newVector.append(extItem)\n",
    "    return newVector\n",
    "\n",
    "vecEntrada = ['a.c', 'asd.txt', 'a.py', 'b.py', 'bar.txt', 'foo.txt', 'x.c']\n",
    "print(sortExtension(vecEntrada))\n",
    "#>>> extsort(['a.c', 'a.py', 'b.py', 'bar.txt', 'foo.txt', 'x.c'])\n",
    "#['a.c', 'x.c', 'a.py', 'b.py', 'bar.txt', 'foo.txt']"
   ]
  },
  {
   "cell_type": "code",
   "execution_count": 55,
   "metadata": {},
   "outputs": [
    {
     "name": "stdout",
     "output_type": "stream",
     "text": [
      "I'm sure that the shells are seashore shells.\n",
      "So if she sells seashells on the seashore,\n",
      "The shells that she sells are seashells I'm sure.\n",
      "She sells seashells on the seashore;\n"
     ]
    }
   ],
   "source": [
    "varText = \"She sells seashells on the seashore;\\n\"\n",
    "varText += \"The shells that she sells are seashells I'm sure.\\n\"\n",
    "varText += \"So if she sells seashells on the seashore,\\n\"\n",
    "varText += \"I'm sure that the shells are seashore shells.\"\n",
    "\n",
    "varTextSplitted = varText.split(\"\\n\")\n",
    "\n",
    "for i in range(len(varTextSplitted) -1, -1 ,-1):\n",
    "    print(varTextSplitted[i])\n",
    "\n",
    "#$ cat she.txt\n",
    "#She sells seashells on the seashore;\n",
    "#The shells that she sells are seashells I'm sure.\n",
    "#So if she sells seashells on the seashore,\n",
    "#I'm sure that the shells are seashore shells.\n",
    "\n",
    "#$ python reverse.py she.txt\n",
    "#I'm sure that the shells are seashore shells.\n",
    "#So if she sells seashells on the seashore,\n",
    "#The shells that she sells are seashells I'm sure.\n",
    "#She sells seashells on the seashore;"
   ]
  },
  {
   "cell_type": "code",
   "execution_count": 57,
   "metadata": {
    "scrolled": true
   },
   "outputs": [
    {
     "name": "stdout",
     "output_type": "stream",
     "text": [
      ".sllehs erohsaes era sllehs eht taht erus m'I\n",
      ",erohsaes eht no sllehsaes slles ehs fi oS\n",
      ".erus m'I sllehsaes era slles ehs taht sllehs ehT\n",
      ";erohsaes eht no sllehsaes slles ehS\n"
     ]
    }
   ],
   "source": [
    "def reverseArray(vec):\n",
    "    invertVec = list(vec)\n",
    "    newVector = \"\"\n",
    "    for i in range(len(invertVec)-1,-1,-1):\n",
    "        newVector+=invertVec[i]\n",
    "        \n",
    "    return newVector\n",
    "\n",
    "varText = \"She sells seashells on the seashore;\\n\"\n",
    "varText += \"The shells that she sells are seashells I'm sure.\\n\"\n",
    "varText += \"So if she sells seashells on the seashore,\\n\"\n",
    "varText += \"I'm sure that the shells are seashore shells.\"\n",
    "\n",
    "varTextSplitted = varText.split(\"\\n\")\n",
    "\n",
    "for i in range(len(varTextSplitted) -1, -1 ,-1):\n",
    "    print(reverseArray(varTextSplitted[i]))"
   ]
  },
  {
   "cell_type": "code",
   "execution_count": 18,
   "metadata": {},
   "outputs": [
    {
     "name": "stdout",
     "output_type": "stream",
     "text": [
      "She sells seashells on the seashore;\n",
      "The shells that she sells are seashells I'm sure.\n",
      "\n",
      "I'm sure that the shells are seashore shells.\n",
      "So if she sells seashells on the seashore,\n",
      "I'm sure that the shells are seashore shells.\n",
      "\n"
     ]
    }
   ],
   "source": [
    "varText = \"She sells seashells on the seashore;\\n\"\n",
    "varText += \"The shells that she sells are seashells I'm sure.\\n\"\n",
    "varText += \"So if she sells seashells on the seashore,\\n\"\n",
    "varText += \"I'm sure that the shells are seashore shells.\\n\"\n",
    "varText += \"So if she sells seashells on the seashore,\\n\"\n",
    "varText += \"I'm sure that the shells are seashore shells.\"\n",
    "\n",
    "def head(textItem, item):\n",
    "    textItem = textItem.split(\"\\n\")\n",
    "    textReturn = \"\"\n",
    "    for i in range(0,item):\n",
    "        textReturn += textItem[i] + \"\\n\"\n",
    "    return textReturn\n",
    "\n",
    "def tail(textItem, item):\n",
    "    textItem = textItem.split(\"\\n\")\n",
    "    textReturn = \"\"\n",
    "    for i in range(len(textItem) - item, len(textItem)):\n",
    "        textReturn += textItem[i] + \"\\n\"\n",
    "    return textReturn\n",
    "\n",
    "print(head(varText, 2))\n",
    "print(tail(varText, 3))"
   ]
  },
  {
   "cell_type": "code",
   "execution_count": 78,
   "metadata": {},
   "outputs": [
    {
     "name": "stdout",
     "output_type": "stream",
     "text": [
      "The shells that she sells are seashells I'm sure.\n",
      "I'm sure that the shells are seashore shells.\n",
      "\n"
     ]
    }
   ],
   "source": [
    "def grep(textoGrep, word):\n",
    "    textoGrep = textoGrep.split(\"\\n\")\n",
    "    varReturn = \"\"\n",
    "    for i in range(len(textoGrep)):\n",
    "        if word in textoGrep[i]:\n",
    "            varReturn += textoGrep[i] + \"\\n\"\n",
    "    return varReturn\n",
    "    \n",
    "varText = \"The shells that she sells are seashells I'm sure.\\n\"\n",
    "varText += \"I'm sure that the shells are seashore shells.\\n\"\n",
    "varText += \"A'm that the shells are seashore shells.\\n\"\n",
    "\n",
    "print(grep(varText, \"sure\"))\n",
    "#$ python grep.py she.txt sure\n",
    "#The shells that she sells are seashells I'm sure.\n",
    "#I'm sure that the shells are seashore shells."
   ]
  },
  {
   "cell_type": "code",
   "execution_count": 101,
   "metadata": {},
   "outputs": [
    {
     "name": "stdout",
     "output_type": "stream",
     "text": [
      "The shells that she sells are s\n",
      "eashells I'm sure.I'm sure that the shells are se\n",
      "ashore shells.A'm that the shells are seashor\n",
      "e shells.\n",
      "\n"
     ]
    }
   ],
   "source": [
    "#$ python wrap.py she.txt 30\n",
    "#I'm sure that the shells are s\n",
    "#eashore shells.\n",
    "#So if she sells seashells on t\n",
    "#he seashore,\n",
    "#The shells that she sells are \n",
    "#seashells I'm sure.\n",
    "#She sells seashells on the sea\n",
    "#shore;\n",
    "\n",
    "def wrap(textoGrep, word):\n",
    "    textoGrep = textoGrep.split(\"\\n\")\n",
    "    varReturn = \"\"\n",
    "    for i in range(len(textoGrep)):\n",
    "        itemText = textoGrep[i]\n",
    "        varReturn += itemText[0:(word+1)] + \"\\n\" + itemText[(word + 1):len(textoGrep[i])]\n",
    "            \n",
    "    return varReturn\n",
    "\n",
    "varText = \"The shells that she sells are seashells I'm sure.\\n\"\n",
    "varText += \"I'm sure that the shells are seashore shells.\\n\"\n",
    "varText += \"A'm that the shells are seashore shells.\\n\"\n",
    "\n",
    "print(wrap(varText, 30))"
   ]
  },
  {
   "cell_type": "code",
   "execution_count": 62,
   "metadata": {},
   "outputs": [
    {
     "name": "stdout",
     "output_type": "stream",
     "text": [
      "The shells that she sells are\n",
      "seashells I'm sure.\n",
      "I'm sure that the shells are\n",
      "seashore shells.\n",
      "A'm that the shells are seashore\n",
      "shells.\n",
      "\n"
     ]
    }
   ],
   "source": [
    "#$ python wordwrap.py she.txt 30\n",
    "#I'm sure that the shells are\n",
    "#seashore shells.\n",
    "#So if she sells seashells on\n",
    "#the seashore,\n",
    "#The shells that she sells are\n",
    "#seashells I'm sure.\n",
    "#She sells seashells on the\n",
    "#seashore;\n",
    "\n",
    "def wrap(textoGrep, word):\n",
    "    textoGrep = textoGrep.split(\"\\n\")\n",
    "    word+=1\n",
    "    varReturn = \"\"\n",
    "    for i in range(len(textoGrep)):\n",
    "        itemText = textoGrep[i]\n",
    "        itemTextList = list(itemText)\n",
    "        \n",
    "        if len(itemTextList) > word:\n",
    "            if itemTextList[word] == \" \":\n",
    "                varReturn += itemText[0:word] + \"\\n\" + itemText[word+1:len(textoGrep[i])] + \"\\n\"\n",
    "            else:\n",
    "                frente = word\n",
    "                atras = word\n",
    "                while(itemTextList[frente] != \" \"):\n",
    "                    frente+=1\n",
    "\n",
    "                while(itemTextList[atras] != \" \"):\n",
    "                    atras-=1\n",
    "\n",
    "                if (frente - word) > (word - atras):\n",
    "                    varReturn += itemText[0:atras] + \"\\n\" + itemText[atras+1:len(textoGrep[i])] + \"\\n\"\n",
    "                else:\n",
    "                    varReturn += itemText[0:frente] + \"\\n\" + itemText[frente+1:len(textoGrep[i])] + \"\\n\"\n",
    "\n",
    "    return varReturn\n",
    "\n",
    "varText = \"The shells that she sells are seashells I'm sure.\\n\"\n",
    "varText += \"I'm sure that the shells are seashore shells.\\n\"\n",
    "varText += \"A'm that the shells are seashore shells.\\n\"\n",
    "\n",
    "print(wrap(varText,30))"
   ]
  },
  {
   "cell_type": "code",
   "execution_count": 81,
   "metadata": {},
   "outputs": [
    {
     "name": "stdout",
     "output_type": "stream",
     "text": [
      "          The shells that she sells are seashells I'm sure.\n",
      "            I'm sure that the shells are seashore shells.\n",
      "               A'm that the shells are seashore shells.\n",
      "                                   \n",
      "\n"
     ]
    }
   ],
   "source": [
    "#$ python center_align.py she.txt\n",
    "#I'm sure that the shells are seashore shells.  \n",
    "#So if she sells seashells on the seashore,   \n",
    "#The shells that she sells are seashells I'm sure.\n",
    "#She sells seashells on the seashore;\n",
    "\n",
    "def alignCenter(textAligned, sizeLine):\n",
    "    textAligned = textAligned.split(\"\\n\")\n",
    "    varReturn = \"\"\n",
    "    for i in range(len(textAligned)):\n",
    "        itemText = textAligned[i]\n",
    "        itemTextList = list(itemText)\n",
    "        diffSpaces = int((sizeLine - (len(itemTextList)))/2)\n",
    "        for i in range(diffSpaces):\n",
    "            varReturn += \" \"\n",
    "        \n",
    "        for i in range(len(itemTextList)):\n",
    "            varReturn+= itemTextList[i]\n",
    "\n",
    "        varReturn+=\"\\n\"\n",
    "    return varReturn\n",
    "        \n",
    "varText = \"The shells that she sells are seashells I'm sure.\\n\"\n",
    "varText += \"I'm sure that the shells are seashore shells.\\n\"\n",
    "varText += \"A'm that the shells are seashore shells.\\n\"\n",
    "\n",
    "print(alignCenter(varText,70))"
   ]
  },
  {
   "cell_type": "code",
   "execution_count": 114,
   "metadata": {},
   "outputs": [
    {
     "name": "stdout",
     "output_type": "stream",
     "text": [
      "[(1, 'a'), (2, 'b'), (3, 'c')]\n",
      "[(1, 'a'), (2, 'b'), (3, 'c')]\n"
     ]
    }
   ],
   "source": [
    "#>>> zip([1, 2, 3], [\"a\", \"b\", \"c\"])\n",
    "#[(1, \"a\"), (2, \"b\"), (3, \"c\")]\n",
    "\n",
    "def zipList(vectorItem):\n",
    "    newVector = []\n",
    "    for i in range(len(vectorItem)-1):\n",
    "        for j in range(len(vectorItem[i])):\n",
    "            newVector.append((vectorItem[i][j], vectorItem[i+1][j]))\n",
    "    return newVector\n",
    "            \n",
    "print(zipList([[1, 2, 3], [\"a\", \"b\", \"c\"]]))\n",
    "\n",
    "\n",
    "itemVetor1 = [1, 2, 3]\n",
    "itemVetor2 = [\"a\", \"b\", \"c\"]\n",
    "\n",
    "print([(itemVetor1[i],itemVetor2[i]) for i in range(len(itemVetor1))])"
   ]
  },
  {
   "cell_type": "code",
   "execution_count": 102,
   "metadata": {},
   "outputs": [
    {
     "name": "stdout",
     "output_type": "stream",
     "text": [
      "0\n",
      "1\n",
      "4\n",
      "9\n",
      "16\n"
     ]
    }
   ],
   "source": [
    "#>>> def square(x): return x * x\n",
    "#...\n",
    "#>>> map(square, range(5))\n",
    "#[0, 1, 4, 9, 16]\n",
    "\n",
    "def square(x): return x*x\n",
    "\n",
    "def map(type, range):\n",
    "    for i in range:\n",
    "        print(type(i))\n",
    "    \n",
    "map(square, range(5))"
   ]
  },
  {
   "cell_type": "code",
   "execution_count": 111,
   "metadata": {},
   "outputs": [
    {
     "name": "stdout",
     "output_type": "stream",
     "text": [
      "[0, 2, 4, 6, 8]\n"
     ]
    }
   ],
   "source": [
    "#>>> def even(x): return x %2 == 0\n",
    "#...\n",
    "#>>> filter(even, range(10))\n",
    "#[0, 2, 4, 6, 8]\n",
    "\n",
    "def even(x): return x %2 == 0\n",
    "\n",
    "def filter(type, range):\n",
    "    newVec = []\n",
    "    for i in range:\n",
    "        if i == 0:\n",
    "            newVec.append(i)\n",
    "        else:\n",
    "            print(type(i) == True and newVec.append(i) or \"\", end=\"\")\n",
    "    return newVec\n",
    "\n",
    "print(filter(even, range(10)))"
   ]
  },
  {
   "cell_type": "code",
   "execution_count": 114,
   "metadata": {},
   "outputs": [
    {
     "name": "stdout",
     "output_type": "stream",
     "text": [
      "[[0, 6, 6], [2, 2, 4], [4, 5, 9], [6, 1, 7]]\n"
     ]
    }
   ],
   "source": [
    "#>>> triplets(5)\n",
    "#[(1, 1, 2), (1, 2, 3), (1, 3, 4), (2, 2, 4)]\n",
    "\n",
    "import random\n",
    "\n",
    "def triplets(item):\n",
    "    newVector = []\n",
    "    for i in range(item -1):\n",
    "        number_X = random.randint(0,10)\n",
    "        number_Y = random.randint(0,10)\n",
    "        auxVector = []\n",
    "        auxVector.append(number_X)\n",
    "        auxVector.append(number_Y)\n",
    "        auxVector.append(number_X + number_Y)\n",
    "        newVector.append(auxVector)\n",
    "    return newVector\n",
    "print(triplets(5))"
   ]
  },
  {
   "cell_type": "code",
   "execution_count": 116,
   "metadata": {},
   "outputs": [
    {
     "name": "stdout",
     "output_type": "stream",
     "text": [
      "0  a\n",
      "1  b\n",
      "2  c\n"
     ]
    }
   ],
   "source": [
    "#>>> enumerate([\"a\", \"b\", \"c\"])\n",
    "#[(0, \"a\"), (1, \"b\"), (2, \"c\")]\n",
    "#>>> for index, value in enumerate([\"a\", \"b\", \"c\"]):\n",
    "#...     print index, value\n",
    "#0 a\n",
    "#1 b\n",
    "#2 c\n",
    "\n",
    "def enumerate(vector):\n",
    "    for i in range(len(vector)):\n",
    "        print (i, end=\"\")\n",
    "        print (\" \" , vector[i])\n",
    "    \n",
    "enumerate([\"a\", \"b\", \"c\"])"
   ]
  },
  {
   "cell_type": "code",
   "execution_count": 122,
   "metadata": {},
   "outputs": [
    {
     "name": "stdout",
     "output_type": "stream",
     "text": [
      "[[None, None, None], [None, None, None]]\n"
     ]
    }
   ],
   "source": [
    "#>>> a = array(2, 3)\n",
    "#>>> a\n",
    "#[[None, None, None], [None, None, None]]\n",
    "#3>>> a[0][0] = 5\n",
    "#[[5, None, None], [None, None, None]]\n",
    "\n",
    "def createArray(x,y):\n",
    "    newVector = []\n",
    "    for i in range(x):\n",
    "        auxVector = []\n",
    "        for j in range(y):\n",
    "            auxVector.append(None)\n",
    "        newVector.append(auxVector)\n",
    "    return newVector\n",
    "\n",
    "print(createArray(2,3))"
   ]
  },
  {
   "cell_type": "code",
   "execution_count": 128,
   "metadata": {},
   "outputs": [
    {
     "name": "stdout",
     "output_type": "stream",
     "text": [
      "abc\n",
      "123\n",
      "234\n",
      "345\n"
     ]
    }
   ],
   "source": [
    "#>>> print open('a.csv').read()\n",
    "#a,b,c\n",
    "#1,2,3\n",
    "#2,3,4\n",
    "#3,4,5\n",
    "#>>> parse_csv('a.csv')\n",
    "#[['a', 'b', 'c'], ['1', '2', '3'], ['2', '3', '4'], ['3', '4', '5']]\n",
    "\n",
    "def printCsv(vector):\n",
    "    for i in range(len(vector)):\n",
    "        for j in range(len(vector[i])):\n",
    "            print(vector[i][j], end=\"\")\n",
    "        print(\"\")\n",
    "    \n",
    "printCsv([['a', 'b', 'c'], ['1', '2', '3'], ['2', '3', '4'], ['3', '4', '5']])"
   ]
  },
  {
   "cell_type": "code",
   "execution_count": 135,
   "metadata": {},
   "outputs": [
    {
     "name": "stdout",
     "output_type": "stream",
     "text": [
      "a!b!c\n",
      "1!2!3\n",
      "2!3!4\n",
      "3!4!5\n"
     ]
    }
   ],
   "source": [
    "#>>> print open('a.txt').read()\n",
    "## elements are separated by ! and comment indicator is #\n",
    "#a!b!c\n",
    "#1!2!3\n",
    "#2!3!4\n",
    "#3!4!5\n",
    "#>>> parse('a.txt', '!', '#')\n",
    "#[['a', 'b', 'c'], ['1', '2', '3'], ['2', '3', '4'], ['3', '4', '5']]\n",
    "def printCsv(vector):\n",
    "    for i in range(len(vector)):\n",
    "        for j in range(len(vector[i])):\n",
    "            print(vector[i][j], end=\"\")\n",
    "            if j < len(vector[i])-1:\n",
    "                print(\"!\",end=\"\")\n",
    "            \n",
    "        print(\"\")\n",
    "    \n",
    "printCsv([['a', 'b', 'c'], ['1', '2', '3'], ['2', '3', '4'], ['3', '4', '5']])"
   ]
  },
  {
   "cell_type": "code",
   "execution_count": 14,
   "metadata": {},
   "outputs": [
    {
     "ename": "TypeError",
     "evalue": "argument of type 'NoneType' is not iterable",
     "output_type": "error",
     "traceback": [
      "\u001b[0;31m---------------------------------------------------------------------------\u001b[0m",
      "\u001b[0;31mTypeError\u001b[0m                                 Traceback (most recent call last)",
      "\u001b[0;32m<ipython-input-14-4104fd8faf98>\u001b[0m in \u001b[0;36m<module>\u001b[0;34m\u001b[0m\n\u001b[1;32m     22\u001b[0m \u001b[0mwords\u001b[0m \u001b[0;34m=\u001b[0m \u001b[0mmutate\u001b[0m\u001b[0;34m(\u001b[0m\u001b[0;34m\"Hello\"\u001b[0m\u001b[0;34m)\u001b[0m\u001b[0;34m\u001b[0m\u001b[0;34m\u001b[0m\u001b[0m\n\u001b[1;32m     23\u001b[0m \u001b[0;34m\u001b[0m\u001b[0m\n\u001b[0;32m---> 24\u001b[0;31m \u001b[0;34m\"hello\"\u001b[0m \u001b[0;32min\u001b[0m \u001b[0mwords\u001b[0m\u001b[0;34m\u001b[0m\u001b[0;34m\u001b[0m\u001b[0m\n\u001b[0m",
      "\u001b[0;31mTypeError\u001b[0m: argument of type 'NoneType' is not iterable"
     ]
    }
   ],
   "source": [
    "#>>> words = mutate('hello')\n",
    "#>>> 'helo' in words\n",
    "#True\n",
    "#>>> 'cello' in words\n",
    "#True\n",
    "#>>> 'helol' in words\n",
    "#True\n",
    "\n",
    "import random\n",
    "\n",
    "def mutate(wordOriginal):\n",
    "    alfabeto = ['a', 'b', 'c', 'd', 'e', 'f',\n",
    "                'g', 'h', 'i', 'j', 'k', 'l',\n",
    "                'm', 'n', 'o', 'p', 'q', 'r',\n",
    "                's', 't', 'u', 'v', 'w', 'x', 'y', 'z']\n",
    "    indice = random.randint(0,25)\n",
    "    change = random.randint(0,len(wordOriginal)-1)\n",
    "    word = list(wordOriginal)\n",
    "    wordChange = word[change]\n",
    "    wordOriginal.replace(wordChange, alfabeto[indice])\n",
    "    \n",
    "words = mutate(\"Hello\")\n",
    "\n",
    "\"hello\" in words\n"
   ]
  },
  {
   "cell_type": "code",
   "execution_count": null,
   "metadata": {},
   "outputs": [],
   "source": [
    "#>>> nearly_equal('python', 'perl')\n",
    "#False\n",
    "#>>> nearly_equal('perl', 'pearl')\n",
    "#True\n",
    "#>>> nearly_equal('python', 'jython')\n",
    "#True\n",
    "#>>> nearly_equal('man', 'woman')\n",
    "#False"
   ]
  },
  {
   "cell_type": "code",
   "execution_count": 149,
   "metadata": {},
   "outputs": [
    {
     "name": "stdout",
     "output_type": "stream",
     "text": [
      "T - 1\n",
      "h - 15\n",
      "e - 21\n",
      "  - 21\n",
      "s - 22\n",
      "l - 14\n",
      "t - 8\n",
      "a - 9\n",
      "r - 7\n",
      "I - 2\n",
      "' - 3\n",
      "m - 3\n",
      "u - 2\n",
      ". - 3\n",
      "o - 2\n",
      "A - 1\n",
      "\n"
     ]
    }
   ],
   "source": [
    "#problem 36: Write a program to count frequency of characters in a given file. \n",
    "#Can you use character frequency to tell whether the given file is a Python program \n",
    "#file, C program file or a text file?\n",
    "\n",
    "varText = \"The shells that she sells are seashells I'm sure.\"\n",
    "varText += \"I'm sure that the shells are seashore shells.\"\n",
    "varText += \"A'm that the shells are seashore shells.\"\n",
    "\n",
    "varText = list(varText)\n",
    "itemCont = {}\n",
    "\n",
    "for i in range(len(varText)):\n",
    "    if varText[i] not in itemCont.keys():\n",
    "        itemCont[varText[i]] = 1\n",
    "    else:\n",
    "        itemCont[varText[i]]+=1\n",
    "\n",
    "print (\"\".join(str(key) + \" - \"+ str(value) + \"\\n\" for key, value in itemCont.items()))"
   ]
  },
  {
   "cell_type": "code",
   "execution_count": null,
   "metadata": {},
   "outputs": [],
   "source": [
    "#>>> anagrams(['eat', 'ate', 'done', 'tea', 'soup', 'node'])\n",
    "#[['eat', 'ate', 'tea], ['done', 'node'], ['soup']]\n",
    "\n",
    "def anagramasList(list):\n",
    "    anag = []\n",
    "    temp = [[item for item in list if sorted(item) == sorted(word)] for word in list]\n",
    "    print (temp"
   ]
  },
  {
   "cell_type": "code",
   "execution_count": 49,
   "metadata": {},
   "outputs": [
    {
     "name": "stdout",
     "output_type": "stream",
     "text": [
      "[['eat', 'ate', 'tea'], ['done', 'node'], ['soup']]\n"
     ]
    }
   ],
   "source": [
    "#>>> anagrams(['eat', 'ate', 'done', 'tea', 'soup', 'node'])\n",
    "#[['eat', 'ate', 'tea], ['done', 'node'], ['soup']]\n",
    "\n",
    "def anagramasList(list):\n",
    "    anag = []\n",
    "    temp = [[item for item in list if sorted(item) == sorted(word)] for word in list]\n",
    "    for item in temp:\n",
    "        if item not in anag:\n",
    "            anag.append(item)\n",
    "    return anag\n",
    "\n",
    "print(anagramasList(['eat', 'ate', 'done', 'tea', 'soup', 'node']))\n",
    "\n",
    "\n",
    "def myAnagramList(vecItens):\n",
    "    globalList = []\n",
    "    \n",
    "    for i in range(len(vecItens)):\n",
    "        for j in range(len(vecItens)):\n",
    "            if vecItens[i] != vecItens[j]:\n",
    "                if len(vecItens[i]) == len(vecItens[j]):\n",
    "                    wordSplitted = list(vecItens[i])\n",
    "                    wordMounted = \"\"\n",
    "                    for k in range(len(wordSplitted)):\n",
    "                        if wordSplitted[k] in vecItens[j]:\n",
    "                            wordMounted+= wordSplitted[k]\n",
    "                        else:\n",
    "                            break\n",
    "                    if len(vecItens[i]) == len(wordMounted):\n",
    "                        localVec = []\n",
    "                        localVec.append(vecItens[i])\n",
    "                        localVec.append(vecItens[j])\n",
    "                        globalList.append(localVec)\n",
    "                    else:\n",
    "                        continue\n",
    "            else: \n",
    "                localVec = []\n",
    "                localVec.append(vecItens[i])\n",
    "                localVec.append(vecItens[j])\n",
    "                globalList.append(localVec) \n",
    "    \n",
    "    finalList = []\n",
    "    for i in range(len(globalList)):\n",
    "        print(globalList[i])\n",
    "                \n",
    "    \n",
    "#print(myAnagramList(['eat', 'ate', 'done', 'tea', 'soup', 'node']))"
   ]
  },
  {
   "cell_type": "code",
   "execution_count": 138,
   "metadata": {},
   "outputs": [
    {
     "name": "stdout",
     "output_type": "stream",
     "text": [
      "[3, 2, 1]\n"
     ]
    }
   ],
   "source": [
    "#>>> valuesort({'x': 1, 'y': 2, 'a': 3})\n",
    "#[3, 1, 2]\n",
    "\n",
    "def valueSort(itemDic):\n",
    "    newVector = []\n",
    "    for key, val in itemDic.items():\n",
    "        newVector.append(val)\n",
    "    newVector.sort(reverse=True)\n",
    "    return newVector\n",
    "\n",
    "print(valueSort({'x': 1, 'y': 2, 'a': 3}))"
   ]
  },
  {
   "cell_type": "code",
   "execution_count": 209,
   "metadata": {},
   "outputs": [
    {
     "name": "stdout",
     "output_type": "stream",
     "text": [
      "{1: 'x', 2: 'y', 3: 'z'}\n"
     ]
    }
   ],
   "source": [
    "#>>> invertdict({'x': 1, 'y': 2, 'z': 3})\n",
    "#{1: 'x', 2: 'y', 3: 'z}\n",
    "\n",
    "def invertKeyVal(itemDic):\n",
    "    newVector = {}\n",
    "    for key, val in itemDic.items():\n",
    "        newVector[val] = key\n",
    "    return newVector\n",
    "\n",
    "print(invertKeyVal({'x': 1, 'y': 2, 'z': 3}))"
   ]
  }
 ],
 "metadata": {
  "kernelspec": {
   "display_name": "Python 3",
   "language": "python",
   "name": "python3"
  },
  "language_info": {
   "codemirror_mode": {
    "name": "ipython",
    "version": 3
   },
   "file_extension": ".py",
   "mimetype": "text/x-python",
   "name": "python",
   "nbconvert_exporter": "python",
   "pygments_lexer": "ipython3",
   "version": "3.7.4"
  }
 },
 "nbformat": 4,
 "nbformat_minor": 2
}
