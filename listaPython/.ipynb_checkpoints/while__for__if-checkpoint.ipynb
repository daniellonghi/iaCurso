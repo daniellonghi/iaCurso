{
 "cells": [
  {
   "cell_type": "code",
   "execution_count": null,
   "metadata": {},
   "outputs": [],
   "source": [
    "### Write a function that returns the maximum of two numbers.\n",
    "input_X = input(\"Digite um numero: \")\n",
    "input_Y = input(\"Digite um numero: \")\n",
    "\n",
    "if input_X > input_Y:\n",
    "    print(\"Numero maximo: \", input_X)\n",
    "else:\n",
    "    print(\"Numero maximo: \", input_Y)"
   ]
  },
  {
   "cell_type": "code",
   "execution_count": 8,
   "metadata": {},
   "outputs": [
    {
     "name": "stdout",
     "output_type": "stream",
     "text": [
      "[[ 1  2  3  4]\n",
      " [ 4  5  6  8]\n",
      " [ 9 10 11 12]]\n",
      "[[ 1  2  3]\n",
      " [ 4  4  5]\n",
      " [ 6  8  9]\n",
      " [10 11 12]]\n"
     ]
    }
   ],
   "source": [
    "import numpy as np\n",
    "\n",
    "matriz = [[1, 2, 3, 4], [4, 5, 6, 8], [9, 10, 11, 12]]\n",
    "\n",
    "matriz = np.array(matriz)\n",
    "\n",
    "print(matriz)\n",
    "\n",
    "print(matriz.reshape(4,3))\n",
    "\n"
   ]
  },
  {
   "cell_type": "code",
   "execution_count": 11,
   "metadata": {},
   "outputs": [
    {
     "name": "stdout",
     "output_type": "stream",
     "text": [
      "Digite um numero: 1\n",
      "1\n"
     ]
    }
   ],
   "source": [
    "#Write a function called fizz_buzz that takes a number.\n",
    "  #If the number is divisible by 3, it should return “Fizz”.\n",
    "  #If it is divisible by 5, it should return “Buzz”.\n",
    "  #If it is divisible by both 3 and 5, it should return “FizzBuzz”.\n",
    "  #Otherwise, it should return the same number.\n",
    "\n",
    "def fizz_buzz(number):\n",
    "    if (number % 3 == 0) and (number % 5 == 0):\n",
    "        return \"FizzBuzz\"\n",
    "    elif (number % 3 == 0):\n",
    "        return \"Fizz\"\n",
    "    elif (number % 5 == 0):\n",
    "        return \"Buzz\"\n",
    "    else:\n",
    "        return number\n",
    "\n",
    "print(fizz_buzz(int(input(\"Digite um numero: \"))))"
   ]
  },
  {
   "cell_type": "code",
   "execution_count": 9,
   "metadata": {},
   "outputs": [
    {
     "name": "stdout",
     "output_type": "stream",
     "text": [
      "What is your speed: 76\n",
      "Points: 4\n"
     ]
    }
   ],
   "source": [
    "#Write a function for checking the speed of drivers. This function should have one parameter: speed.\n",
    "  #If speed is less than 70, it should print “Ok”.\n",
    "  #Otherwise, for every 5km above the speed limit (70), it should give the driver one demerit point and \n",
    "     #print the total number of demerit points. For example, if the speed is 80, it should print: “Points: 2”.\n",
    "  #If the driver gets more than 12 points, the function should print: “License suspended”\n",
    "import math\n",
    "def pointsLicense(speed):\n",
    "    if speed <= 70:\n",
    "        return \"It's Ok\"\n",
    "    elif speed > 70:\n",
    "        points = speed - 70\n",
    "        points = math.ceil((int(points)/5)) * 2\n",
    "        if points >= 12:\n",
    "            return \"License suspended\"\n",
    "        else:\n",
    "            return (\"Points: \" + str(points))\n",
    "    \n",
    "print(pointsLicense(int(input(\"What is your speed: \"))))"
   ]
  },
  {
   "cell_type": "code",
   "execution_count": 16,
   "metadata": {},
   "outputs": [
    {
     "name": "stdout",
     "output_type": "stream",
     "text": [
      "Entra com um limite (OH MERDA): 10\n",
      "0 - It's zero MODAFOCKER\n",
      "1 - Odd\n",
      "2 - Even\n",
      "3 - Odd\n",
      "4 - Even\n",
      "5 - Odd\n",
      "6 - Even\n",
      "7 - Odd\n",
      "8 - Even\n",
      "9 - Odd\n"
     ]
    }
   ],
   "source": [
    "#Write a function called showNumbers that takes a parameter called limit. \n",
    "#It should print all the numbers between 0 and limit with a label to identify the \n",
    "#even and odd numbers. For example, if the limit is 3, it should print:\n",
    "#0 EVEN\n",
    "#1 ODD\n",
    "#2 EVEN\n",
    "#3 ODD\n",
    "\n",
    "def showNumber(limit):\n",
    "    for i in range(limit):\n",
    "        if i == 0:\n",
    "            print (str(i) + \" - It's zero MODAFOCKER\")\n",
    "        elif i % 2 == 0:\n",
    "            print (str(i) + \" - Even\")\n",
    "        else:\n",
    "            print(str(i) + \" - Odd\")\n",
    "\n",
    "showNumber(int(input(\"Entra com um limite (OH MERDA): \")))"
   ]
  },
  {
   "cell_type": "code",
   "execution_count": 23,
   "metadata": {},
   "outputs": [
    {
     "name": "stdout",
     "output_type": "stream",
     "text": [
      "Digite um numero: 15\n",
      "60\n"
     ]
    }
   ],
   "source": [
    "#Write a function that returns the sum of multiples of 3 and 5 between 0 and limit (parameter). \n",
    "# For example, if limit is 20, it should return the sum of 3, 5, 6, 9, 10, 12, 15, 18, 20.\n",
    "\n",
    "def sumMultiples(number):\n",
    "    sumItens = 0\n",
    "    for i in range(number+1):\n",
    "        if(i % 3 == 0):\n",
    "            sumItens+=i\n",
    "        elif (i % 5 == 0):\n",
    "            sumItens+=i\n",
    "    return sumItens\n",
    "\n",
    "print(sumMultiples(int(input(\"Digite um numero: \"))))"
   ]
  },
  {
   "cell_type": "code",
   "execution_count": 30,
   "metadata": {},
   "outputs": [
    {
     "name": "stdout",
     "output_type": "stream",
     "text": [
      "Digite um numero de linhas: 5\n",
      "*\n",
      "**\n",
      "***\n",
      "****\n",
      "*****\n"
     ]
    }
   ],
   "source": [
    "#Write a function called show_stars(rows). If rows is 5, it should print the following:\n",
    "\n",
    "def showStars(rows):\n",
    "    if rows == 5:\n",
    "        for i in range(1, rows+1):\n",
    "            print(\"*\"*i)\n",
    "    \n",
    "showStars(int(input(\"Digite um numero de linhas: \")))"
   ]
  },
  {
   "cell_type": "code",
   "execution_count": 19,
   "metadata": {},
   "outputs": [
    {
     "name": "stdout",
     "output_type": "stream",
     "text": [
      "Entra com um limite (OH MERDA): 0\n",
      "None - Numero digitado\n"
     ]
    }
   ],
   "source": [
    "#Write a function that prints all the prime numbers between 0 and limit where limit is a parameter.\n",
    "def numerosPrimos(limit):\n",
    "    if limit == 0 or limit == 1:\n",
    "        for i in range(limit):\n",
    "            if i == 0:\n",
    "                print ()\n",
    "            elif i % 2 == 1:\n",
    "                    print(i)\n",
    "    else:\n",
    "        return limit + \" - It's zero MODAFOCKER\"\n",
    "\n",
    "print(str(numerosPrimos(int(input(\"Entra com um limite (OH MERDA): \")))) + \" - Numero digitado\")"
   ]
  }
 ],
 "metadata": {
  "kernelspec": {
   "display_name": "Python [conda env:ambDanielFiep] *",
   "language": "python",
   "name": "conda-env-ambDanielFiep-py"
  },
  "language_info": {
   "codemirror_mode": {
    "name": "ipython",
    "version": 3
   },
   "file_extension": ".py",
   "mimetype": "text/x-python",
   "name": "python",
   "nbconvert_exporter": "python",
   "pygments_lexer": "ipython3",
   "version": "3.7.4"
  }
 },
 "nbformat": 4,
 "nbformat_minor": 2
}
