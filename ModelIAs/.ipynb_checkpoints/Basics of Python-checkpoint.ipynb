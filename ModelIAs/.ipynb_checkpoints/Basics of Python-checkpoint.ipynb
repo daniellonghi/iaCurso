{
 "cells": [
  {
   "cell_type": "code",
   "execution_count": null,
   "metadata": {},
   "outputs": [],
   "source": [
    "import numpy as np\n",
    "\n",
    "vectorToSave = []\n",
    "for item in range(10):\n",
    "    vectorToSave.append(input())\n",
    "\n",
    "print (vectorToSave)\n",
    "\n",
    "matrizToSave = []\n",
    "row = []\n",
    "for i in range(2):\n",
    "    for j in range(2):\n",
    "        row.append(input())\n",
    "    matrizToSave.append(row)\n",
    "print (matrizToSave)\n",
    "\n",
    "matrizNumpy = np.zeros((2,2))\n",
    "print(matrizNumpy)"
   ]
  },
  {
   "cell_type": "code",
   "execution_count": null,
   "metadata": {},
   "outputs": [],
   "source": [
    "%matplotlib inline\n",
    "\n",
    "import time\n",
    "\n",
    "import cv2\n",
    "import gluoncv as gcv\n",
    "import mxnet as mx\n",
    "\n",
    "net = gcv.model_zoo.get_model('ssd_512_mobilenet1.0_voc', pretrained=True)\n",
    " \n",
    "cap = cv2.VideoCapture(0)\n",
    "time.sleep(1)\n",
    "\n",
    "while(1):\n",
    "    # Load frame from the camera\n",
    "    ret, frame = cap.read()\n",
    "\n",
    "    # Image pre-processing\n",
    "    frame = mx.nd.array(cv2.cvtColor(frame, cv2.COLOR_BGR2RGB)).astype('uint8')\n",
    "    rgb_nd, frame = gcv.data.transforms.presets.ssd.transform_test(frame, short=480, max_size=480)\n",
    "\n",
    "    # Run frame through network\n",
    "    class_IDs, scores, bounding_boxes = net(rgb_nd)\n",
    "\n",
    "    # Display the result\n",
    "    img = gcv.utils.viz.cv_plot_bbox(frame, bounding_boxes[0], scores[0], class_IDs[0], class_names=net.classes)\n",
    "    gcv.utils.viz.cv_plot_image(img)\n",
    "\n",
    "    # Break loop\n",
    "    if (cv2.waitKey(30) & 0xff) == 27:\n",
    "        break\n",
    "cap.release()\n",
    "cv2.destroyAllWindows()"
   ]
  }
 ],
 "metadata": {
  "kernelspec": {
   "display_name": "Python 3",
   "language": "python",
   "name": "python3"
  },
  "language_info": {
   "codemirror_mode": {
    "name": "ipython",
    "version": 3
   },
   "file_extension": ".py",
   "mimetype": "text/x-python",
   "name": "python",
   "nbconvert_exporter": "python",
   "pygments_lexer": "ipython3",
   "version": "3.7.4"
  }
 },
 "nbformat": 4,
 "nbformat_minor": 2
}
