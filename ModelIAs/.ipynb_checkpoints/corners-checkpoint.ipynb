{
 "cells": [
  {
   "cell_type": "code",
   "execution_count": 14,
   "metadata": {},
   "outputs": [
    {
     "name": "stdout",
     "output_type": "stream",
     "text": [
      "Largura: 281\n",
      "Altura: 1002\n"
     ]
    }
   ],
   "source": [
    "import numpy as np\n",
    "import argparse\n",
    "import cv2\n",
    "from PIL import Image\n",
    "\n",
    "# LEITURA DA IMAGEM\n",
    "filename = \"chessboard2.jpg\"\n",
    "image = cv2.imread(filename)\n",
    "gray = cv2.cvtColor(image, cv2.COLOR_BGR2GRAY)\n",
    "gray = cv2.bitwise_not(gray)\n",
    "# LEITURA DA IMAGEM\n",
    "\n",
    "# ITEM PARA OPENCV\n",
    "thresh = cv2.threshold(gray, 0, 255, cv2.THRESH_BINARY | cv2.THRESH_OTSU)[1]\n",
    "coords = np.column_stack(np.where(thresh > 0))\n",
    "angle = cv2.minAreaRect(coords)[-1]\n",
    "# ITEM PARA OPENCV\n",
    "\n",
    "# IDENTIFICA ANGULO DIREITA E ESQUERDA\n",
    "if angle < -45:\n",
    "    angle = -(90 + angle)\n",
    "else:\n",
    "    angle = -angle\n",
    "# IDENTIFICA ANGULO DIREITA E ESQUERDA\n",
    "\n",
    "# HEIGHT AND WIDTH\n",
    "(h, w) = image.shape[:2]\n",
    "center = (w // 2, h // 2)\n",
    "M = cv2.getRotationMatrix2D(center, angle, 1.0)\n",
    "rotated = cv2.warpAffine(image, M, (w, h), flags=cv2.INTER_CUBIC, borderMode=cv2.BORDER_REPLICATE)\n",
    "# HEIGHT AND WIDTH\n",
    "\n",
    "# SAVE IMAGEM\n",
    "cv2.imwrite(\"imagem.jpg\", rotated)\n",
    "# SAVE IMAGEM\n",
    "\n",
    "\n",
    "filename = \"imagem.jpg\"\n",
    "img = cv2.imread(filename)\n",
    "gray = cv2.cvtColor(img, cv2.COLOR_BGR2GRAY)\n",
    "gray = cv2.bitwise_not(gray)\n",
    "\n",
    "#Teste essa Parte (Extrair pontos maximos)\n",
    "gray = np.float32(gray)\n",
    "dst = cv2.cornerHarris(gray,3,3,0.08)\n",
    "\n",
    "#result is dilated for marking the corners, not important\n",
    "dst = cv2.dilate(dst,None)\n",
    "\n",
    "# Threshold for an optimal value, it may vary depending on the image.\n",
    "img[ dst > 0.01 * dst.max()] = [0,0,255]\n",
    "\n",
    "somarLinha = 0\n",
    "somarColuna = 0\n",
    "\n",
    "addCoordinationX = []\n",
    "addCoordinationY = []\n",
    "\n",
    "#Valores de pontos extremos da imagem\n",
    "for i in range(len(img)):\n",
    "    for j in range(len(img[0])):\n",
    "        if list(img[i][j]) == [0, 0, 255]:\n",
    "            addCoordinationX.append(i)\n",
    "            addCoordinationY.append(j)\n",
    "\n",
    "print(\"Largura: \" + str(max(addCoordinationX) - min(addCoordinationY)))\n",
    "print(\"Altura: \" + str(max(addCoordinationY) - min(addCoordinationX)))\n",
    "\n",
    "#Valores para left, up, right, bottom para o Crop\n",
    "area = (min(addCoordinationY), min(addCoordinationX), max(addCoordinationY), max(addCoordinationX))\n",
    "img  = Image.open(\"imagem.jpg\")\n",
    "cropped_img = img.crop(area)\n",
    "\n",
    "cropped_img.save(\"imagem.jpg\")\n",
    "\n",
    "cropped_img.show()"
   ]
  },
  {
   "cell_type": "code",
   "execution_count": null,
   "metadata": {},
   "outputs": [],
   "source": [
    "img= cv2.imread(\"imagem.jpg\")\n",
    "#Strech image\n",
    "width = img.shape[1] # keep original width\n",
    "height = img.shape[0] # keep original height \n",
    "dim = (width, height) # resize image \n",
    "resized_w = cv2.resize(img, dim, interpolation = cv2.INTER_AREA) \n",
    "print(\"Resized Dimensions : \",resized_w.shape) \n",
    "cv2.imwrite(\"resize_w.png\", resized_w)\n",
    "\n",
    "#cv2.imshow('dst',img)\n",
    "#if cv2.waitKey(0) & 0xff == 27:\n",
    "#    cv2.destroyAllWindows()"
   ]
  }
 ],
 "metadata": {
  "kernelspec": {
   "display_name": "Python [conda env:ambDanielFiep] *",
   "language": "python",
   "name": "conda-env-ambDanielFiep-py"
  },
  "language_info": {
   "codemirror_mode": {
    "name": "ipython",
    "version": 3
   },
   "file_extension": ".py",
   "mimetype": "text/x-python",
   "name": "python",
   "nbconvert_exporter": "python",
   "pygments_lexer": "ipython3",
   "version": "3.7.4"
  }
 },
 "nbformat": 4,
 "nbformat_minor": 2
}
