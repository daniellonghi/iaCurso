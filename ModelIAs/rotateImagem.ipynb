{
 "cells": [
  {
   "cell_type": "code",
   "execution_count": 8,
   "metadata": {},
   "outputs": [
    {
     "data": {
      "text/plain": [
       "True"
      ]
     },
     "execution_count": 8,
     "metadata": {},
     "output_type": "execute_result"
    }
   ],
   "source": [
    "import numpy as np\n",
    "import argparse\n",
    "import cv2\n",
    "from PIL import Image\n",
    "\n",
    "# LEITURA DA IMAGEM\n",
    "filename = \"./imagem_teste_rotate/1.jpg\"\n",
    "image = cv2.imread(filename)\n",
    "gray = cv2.cvtColor(image, cv2.COLOR_BGR2GRAY)\n",
    "gray = cv2.bitwise_not(gray)\n",
    "# LEITURA DA IMAGEM\n",
    "\n",
    "# ITEM PARA OPENCV\n",
    "thresh = cv2.threshold(gray, 0, 255, cv2.THRESH_BINARY | cv2.THRESH_OTSU)[1]\n",
    "coords = np.column_stack(np.where(thresh > 0))\n",
    "angle = cv2.minAreaRect(coords)[-1]\n",
    "# ITEM PARA OPENCV\n",
    "\n",
    "# IDENTIFICA ANGULO DIREITA E ESQUERDA\n",
    "if angle < -45:\n",
    "    angle = -(90 + angle)\n",
    "else:\n",
    "    angle = -angle\n",
    "# IDENTIFICA ANGULO DIREITA E ESQUERDA\n",
    "\n",
    "# HEIGHT AND WIDTH\n",
    "(h, w) = image.shape[:2]\n",
    "center = (w // 2, h // 2)\n",
    "M = cv2.getRotationMatrix2D(center, (angle), 1.0)\n",
    "rotated = cv2.warpAffine(image, M, (w, h), flags=cv2.INTER_CUBIC, borderMode=cv2.BORDER_REPLICATE)\n",
    "# HEIGHT AND WIDTH\n",
    "\n",
    "# SAVE IMAGEM\n",
    "cv2.imwrite(\"./imagem_teste_rotate/1_rodado.jpg\", rotated)\n",
    "# SAVE IMAGEM"
   ]
  }
 ],
 "metadata": {
  "kernelspec": {
   "display_name": "Python [conda env:ambDanielFiep] *",
   "language": "python",
   "name": "conda-env-ambDanielFiep-py"
  },
  "language_info": {
   "codemirror_mode": {
    "name": "ipython",
    "version": 3
   },
   "file_extension": ".py",
   "mimetype": "text/x-python",
   "name": "python",
   "nbconvert_exporter": "python",
   "pygments_lexer": "ipython3",
   "version": "3.7.4"
  }
 },
 "nbformat": 4,
 "nbformat_minor": 2
}
