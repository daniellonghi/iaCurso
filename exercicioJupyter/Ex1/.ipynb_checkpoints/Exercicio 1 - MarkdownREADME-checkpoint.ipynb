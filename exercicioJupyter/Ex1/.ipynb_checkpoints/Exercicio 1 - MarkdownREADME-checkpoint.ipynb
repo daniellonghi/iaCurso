{
 "cells": [
  {
   "cell_type": "markdown",
   "metadata": {},
   "source": [
    "# Image processing in Python"
   ]
  },
  {
   "cell_type": "markdown",
   "metadata": {},
   "source": [
    "[![Image name](imagem1.png)](https://forum.image.sc/tags/scikit-image)\n",
    "[![Image name](imagem2.png)](https://stackoverflow.com/questions/tagged/scikit-image)"
   ]
  },
  {
   "cell_type": "markdown",
   "metadata": {},
   "source": [
    "* __Website (including documentation):__ [https://scikit-image.org/](https://scikit-image.org/)\n",
    "* __Mailing list:__ [https://mail.python.org/mailman/listinfo/scikit-image](https://mail.python.org/mailman/listinfo/scikit-image)\n",
    "* __Benchmarks:__ [https://pandas.pydata.org/speed/scikit-image/](https://pandas.pydata.org/speed/scikit-image/)"
   ]
  },
  {
   "cell_type": "markdown",
   "metadata": {},
   "source": [
    "## Installation from binaries"
   ]
  },
  {
   "cell_type": "markdown",
   "metadata": {},
   "source": [
    "* __Debian/Ubuntu:__ sudo apt-get install python-skimage\n",
    "* __OSX:__  pip install scikit-image\n",
    "* __Anaconda:__ conda install -c conda-forge scikit-image\n",
    "* __Windows:__ Download [Windows binaries](http://www.lfd.uci.edu/~gohlke/pythonlibs/#scikit-image)"
   ]
  },
  {
   "cell_type": "markdown",
   "metadata": {},
   "source": [
    "Also see [installing scikit-image](https://www.google.com.br)."
   ]
  },
  {
   "cell_type": "markdown",
   "metadata": {},
   "source": [
    "## Insallation from source"
   ]
  },
  {
   "cell_type": "markdown",
   "metadata": {},
   "source": [
    "Install dependencies using:"
   ]
  },
  {
   "cell_type": "markdown",
   "metadata": {},
   "source": [
    "pip install -r requirements.txt"
   ]
  },
  {
   "cell_type": "markdown",
   "metadata": {},
   "source": [
    "If you plan to develop the package, you may run it directly from source:"
   ]
  },
  {
   "cell_type": "markdown",
   "metadata": {},
   "source": [
    "\\$ pip install -e . \\# Do this once to add package to Python path"
   ]
  },
  {
   "cell_type": "markdown",
   "metadata": {},
   "source": [
    "Every time you modify Cython files, also run:"
   ]
  },
  {
   "cell_type": "markdown",
   "metadata": {},
   "source": [
    "\\$ python setup.py build_ext -i \\# Build binary extensions"
   ]
  },
  {
   "cell_type": "markdown",
   "metadata": {},
   "source": [
    "## License (Modified BSD)"
   ]
  },
  {
   "cell_type": "markdown",
   "metadata": {},
   "source": [
    "Copyright (C) 2011, the scikit-image team All rights reserved  \n",
    "\n",
    "Redistribution and use in source and binary forms, with or without modification, are permitted provided that\n",
    "the following conditions are met:  \n",
    "\n",
    "1. Redistributions of source code must retain the above copyright notice, this list of conditions and the\n",
    "following disclaimer.  \n",
    "\n",
    "2. Redistributions in binary form must reproduce the above copyright notice, this list of conditions and\n",
    "the following disclaimer in the documentation and/or other materials provided with the distribution.  \n",
    "\n",
    "3. Neither the name of skimage nor the names of its contributors may be used to endorse or promote\n",
    "products derived from this software without specific prior written permission.  \n",
    "\n",
    "THIS SOFTWARE IS PROVIDED BY THE AUTHOR ``AS IS\" AND ANY EXPRESS OR IMPLIED\n",
    "WARRANTIES, INCLUDING, BUT NOT LIMITED TO, THE IMPLIED WARRANTIES OF\n",
    "MERCHANTABILITY AND FITNESS FOR A PARTICULAR PURPOSE ARE DISCLAIMED. IN NO\n",
    "EVENT SHALL THE AUTHOR BE LIABLE FOR ANY DIRECT, INDIRECT, INCIDENTAL, SPECIAL,\n",
    "EXEMPLARY, OR CONSEQUENTIAL DAMAGES (INCLUDING, BUT NOT LIMITED TO,\n",
    "PROCUREMENT OF SUBSTITUTE GOODS OR SERVICES; LOSS OF USE, DATA, OR PROFITS; OR\n",
    "BUSINESS INTERRUPTION) HOWEVER CAUSED AND ON ANY THEORY OF LIABILITY,\n",
    "WHETHER IN CONTRACT, STRICT LIABILITY, OR TORT (INCLUDING NEGLIGENCE OR\n",
    "OTHERWISE) ARISING IN ANY WAY OUT OF THE USE OF THIS SOFTWARE, EVEN IF ADVISED\n",
    "OF THE POSSIBILITY OF SUCH DAMAGE."
   ]
  },
  {
   "cell_type": "markdown",
   "metadata": {},
   "source": [
    "## Citation"
   ]
  },
  {
   "cell_type": "markdown",
   "metadata": {},
   "source": [
    "If you find this project useful, please cite:  \n",
    "\n",
    "><cite>Stéfan van der Walt, Johannes L. Schönberger, Juan Nunez-Iglesias, François Boulogne, Joshua\n",
    "D. Warner, Neil Yager, Emmanuelle Gouillart, Tony Yu, and the scikit-image contributors.\n",
    "scikit-image: Image processing in Python. PeerJ 2:e453 (2014) https://doi.org/10.7717/peerj.453</cite>"
   ]
  }
 ],
 "metadata": {
  "kernelspec": {
   "display_name": "Python 3",
   "language": "python",
   "name": "python3"
  },
  "language_info": {
   "codemirror_mode": {
    "name": "ipython",
    "version": 3
   },
   "file_extension": ".py",
   "mimetype": "text/x-python",
   "name": "python",
   "nbconvert_exporter": "python",
   "pygments_lexer": "ipython3",
   "version": "3.7.4"
  }
 },
 "nbformat": 4,
 "nbformat_minor": 2
}
