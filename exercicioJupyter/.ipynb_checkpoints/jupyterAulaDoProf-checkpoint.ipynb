{
 "cells": [
  {
   "cell_type": "markdown",
   "metadata": {
    "slideshow": {
     "slide_type": "slide"
    }
   },
   "source": [
    "# Exercícios \n",
    "## Jupyter Notebook e Markdown  "
   ]
  },
  {
   "cell_type": "markdown",
   "metadata": {
    "slideshow": {
     "slide_type": "slide"
    }
   },
   "source": [
    "## Exercício 1\n",
    "\n",
    "Reproduza o seguinte [README](https://advancedinstitute.ai/wp-content/uploads/2019/10/markdown.pdf) utilizando `markdown` no Jupyter notebook.\n"
   ]
  },
  {
   "cell_type": "markdown",
   "metadata": {
    "slideshow": {
     "slide_type": "slide"
    }
   },
   "source": [
    "## Exercício 2\n",
    "\n",
    "Escolha um tema da ementa do curso que você achou interessante  (que você ainda não conheça) e prepare uma apresentação. \n",
    "\n",
    "A apresentação deverá:\n",
    "* conter 5 slides simples\n",
    "* ser salva em `.html`"
   ]
  },
  {
   "cell_type": "markdown",
   "metadata": {
    "slideshow": {
     "slide_type": "slide"
    }
   },
   "source": [
    "## Exercício 3\n",
    "\n",
    "O `markdown` não possibilita que redimensionemos a imagem usando a sintaxe `![image_alt](image_path)`.\n",
    "Pesquise uma maneira de inserir a seguinte imagem e redimensioná-la no jupyter notebook. "
   ]
  },
  {
   "cell_type": "markdown",
   "metadata": {
    "slideshow": {
     "slide_type": "slide"
    }
   },
   "source": [
    "## Exercício 4\n",
    "\n",
    "Como escrever (utilizando uma célula `markdown`) em texto simples os símbolos utilizados pela sintaxe ( `*, #, _ **`)?\n",
    "\n",
    "Imagem exemplo:\n",
    "![](https://advancedinstitute.ai/wp-content/uploads/2019/10/lorem.png)"
   ]
  },
  {
   "cell_type": "markdown",
   "metadata": {
    "slideshow": {
     "slide_type": "slide"
    }
   },
   "source": [
    "## Exercício 5\n",
    "\n",
    "Instale o a ferramente `matplotlib` usando o `conda` utilizando uma célula do `jupyter notebook`.\n",
    "**Dica 1:** insira `-y` no final do comando de instalação para que ele não espere sua confirmação para instalação.\n",
    "\n",
    "**Dica 2:** Pode ser necessário reiniciar o `kernel` para que o pacote instalado seja identificado pelo `jupyter`. Para fazê-lo: aba superior **Kernel ->  Restart**.\n",
    "\n"
   ]
  },
  {
   "cell_type": "markdown",
   "metadata": {
    "slideshow": {
     "slide_type": "subslide"
    }
   },
   "source": [
    "\n",
    "Execute o seguinte trecho de código no `jupyter notebook`:\n",
    "\n"
   ]
  },
  {
   "cell_type": "markdown",
   "metadata": {
    "slideshow": {
     "slide_type": "subslide"
    }
   },
   "source": [
    "```\n",
    "import matplotlib\n",
    "import matplotlib.pyplot as plt\n",
    "import numpy as np\n",
    "\n",
    "# Data for plotting\n",
    "t = np.arange(0.0, 2.0, 0.01)\n",
    "s = 1 + np.sin(2 * np.pi * t)\n",
    "\n",
    "fig, ax = plt.subplots()\n",
    "ax.plot(t, s)\n",
    "\n",
    "ax.set(xlabel='time (s)', ylabel='voltage (mV)',\n",
    "       title='About as simple as it gets, folks')\n",
    "ax.grid()\n",
    "\n",
    "plt.show()\n",
    "\n",
    "```"
   ]
  },
  {
   "cell_type": "markdown",
   "metadata": {
    "slideshow": {
     "slide_type": "subslide"
    }
   },
   "source": [
    "Se precisar, instale utilizando `conda` os pacotes que estiverem faltando no ambiente.\n",
    "\n",
    "Obs.: Em módulos futuros, será explicado como utilizar a lib `matplotlib`."
   ]
  },
  {
   "cell_type": "markdown",
   "metadata": {
    "slideshow": {
     "slide_type": "slide"
    }
   },
   "source": [
    "###### Exercício 6\n",
    "\n",
    "\n",
    "#### Utilizando algumas funções mágicas do jupyter notebook:\n",
    "\n"
   ]
  },
  {
   "cell_type": "code",
   "execution_count": null,
   "metadata": {
    "slideshow": {
     "slide_type": "fragment"
    }
   },
   "outputs": [],
   "source": [
    "# Mostra as variáveis que você está utilizando nesse notebook:\n",
    "\n",
    "%who_ls"
   ]
  },
  {
   "cell_type": "code",
   "execution_count": null,
   "metadata": {
    "slideshow": {
     "slide_type": "fragment"
    }
   },
   "outputs": [],
   "source": [
    "#mostra a hora do sistema\n",
    "\n",
    "%system date"
   ]
  },
  {
   "cell_type": "markdown",
   "metadata": {
    "slideshow": {
     "slide_type": "subslide"
    }
   },
   "source": [
    "O `jupyter notebook` conta com algumas `funções mágicas` para ajudar o desenvolvedor. \n",
    "\n",
    "para visualizar todas as funções, execute o seguinte comando:"
   ]
  },
  {
   "cell_type": "code",
   "execution_count": null,
   "metadata": {
    "slideshow": {
     "slide_type": "fragment"
    }
   },
   "outputs": [],
   "source": [
    "%lsmagic"
   ]
  },
  {
   "cell_type": "markdown",
   "metadata": {
    "slideshow": {
     "slide_type": "subslide"
    }
   },
   "source": [
    "Pesquise e demonstre a utilização de outras 5 `funções mágicas`. "
   ]
  },
  {
   "cell_type": "markdown",
   "metadata": {
    "slideshow": {
     "slide_type": "slide"
    }
   },
   "source": [
    "### Exercício 7\n",
    "\n",
    "\n",
    "* Crie uma conta no <http://github.com> (caso ainda não tenha)\n",
    "* Crie um repositório com o nome `profile`\n",
    "* no arquivo `README.md` Crie o seu perfil (como uma espécie de mini CV) utilizando `Markdown`.\n",
    "\n"
   ]
  }
 ],
 "metadata": {
  "celltoolbar": "Slideshow",
  "kernelspec": {
   "display_name": "Python [conda env:ambDanielFiep] *",
   "language": "python",
   "name": "conda-env-ambDanielFiep-py"
  },
  "language_info": {
   "codemirror_mode": {
    "name": "ipython",
    "version": 3
   },
   "file_extension": ".py",
   "mimetype": "text/x-python",
   "name": "python",
   "nbconvert_exporter": "python",
   "pygments_lexer": "ipython3",
   "version": "3.7.4"
  }
 },
 "nbformat": 4,
 "nbformat_minor": 2
}
