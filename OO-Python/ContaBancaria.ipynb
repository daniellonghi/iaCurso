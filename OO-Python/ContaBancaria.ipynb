{
 "cells": [
  {
   "cell_type": "code",
   "execution_count": 4,
   "metadata": {},
   "outputs": [],
   "source": [
    "class Clientes():\n",
    "    nomeCliente = \"\"\n",
    "    enderecoCliente = \"\"\n",
    "    \n",
    "    def __init__(self,nome,endereco, credito):\n",
    "        self.nomeCliente = nome\n",
    "        self.enderecoCliente = endereco\n",
    "        self.contaPoupanca = Poupanca(1)\n",
    "        self.contaCorrente = Corrente(2,credito)\n",
    "    \n",
    "    def getNome(self):\n",
    "        return self.nomeCliente\n",
    "    \n",
    "    def setNome(self, nome):\n",
    "        self.nomeCliente = nome\n",
    "    \n",
    "    def setEndereco(self, endereco):\n",
    "        self.enderecoCliente = endereco\n",
    "    \n",
    "    def getEndereco(self):\n",
    "        return self.enderecoCliente\n",
    "        \n",
    "    def saqueConta(self,saque):\n",
    "        if saque <= self.contaCorrente.getSaldo():\n",
    "            return \"Saque com sucesso. Seu saldo é de :\" + self.getSaldo()\n",
    "        else:\n",
    "            return \"Saldo insuficiente\"\n",
    "        \n",
    "    def depositoConta(self,deposito):\n",
    "        self.contaCorrente.setSaldo(deposito)\n",
    "        return \"Seu saldo é: \" +  str(self.contaCorrente.getSaldo())"
   ]
  },
  {
   "cell_type": "code",
   "execution_count": 5,
   "metadata": {},
   "outputs": [],
   "source": [
    "class PessoaFisica(Clientes):\n",
    "    pessoaCPF = \"\"\n",
    "    \n",
    "    def __init__(self,nome,endereco,credito):\n",
    "        super().__init__(nome,endereco,credito)\n",
    "    \n",
    "    def setCPF(self,cpf):\n",
    "        self.pessoaCPF = cpf\n",
    "    \n",
    "    def getCPF(self):\n",
    "        return self.pessoaCPF"
   ]
  },
  {
   "cell_type": "code",
   "execution_count": 6,
   "metadata": {},
   "outputs": [],
   "source": [
    "class PessoaJuridica(Clientes):\n",
    "    pessoaCNPJ = \"\"\n",
    "    \n",
    "    def __init__(self,nome,endereco,credito):\n",
    "        super().__init__(nome,endereco,credito)\n",
    "        \n",
    "    def setCNPJ(self,cnpj):\n",
    "        self.pessoaCNPJ = cnpj\n",
    "    \n",
    "    def getCNPJF(self):\n",
    "        return self.pessoaCNPJ"
   ]
  },
  {
   "cell_type": "code",
   "execution_count": 7,
   "metadata": {},
   "outputs": [],
   "source": [
    "class Conta():\n",
    "    numeroConta = 0\n",
    "    saldo = 0\n",
    "    tipo = 0\n",
    "    \n",
    "    def getNumeroConta(self):\n",
    "        return self.getNumeroConta\n",
    "    \n",
    "    def setNumeroConta(self,numero):\n",
    "        self.numeroConta = numero\n",
    "   \n",
    "    def getSaldo(self):\n",
    "        return self.saldo\n",
    "    \n",
    "    def setSaldo(self,saldo):\n",
    "        self.saldo = saldo\n"
   ]
  },
  {
   "cell_type": "code",
   "execution_count": 8,
   "metadata": {},
   "outputs": [],
   "source": [
    "class Poupanca(Conta):    \n",
    "    def __init__(self, tipo):\n",
    "        self.tipo = tipo"
   ]
  },
  {
   "cell_type": "code",
   "execution_count": 9,
   "metadata": {},
   "outputs": [],
   "source": [
    "class Corrente(Conta):\n",
    "    limiteCredito = 600\n",
    "    \n",
    "    def __init__(self, tipo, credito):\n",
    "        self.tipo = tipo\n",
    "        self.limiteCredito = credito\n",
    "    \n",
    "    def getLimiteCredito(self):\n",
    "        return self.limiteCredito\n",
    "        \n",
    "    def setLimiteCredito(self,limite):\n",
    "        self.limiteCredito = limite\n",
    "        return \"Seu limite é: \" +  str(self.getLimiteCredito())"
   ]
  },
  {
   "cell_type": "code",
   "execution_count": 10,
   "metadata": {},
   "outputs": [
    {
     "name": "stdout",
     "output_type": "stream",
     "text": [
      "Daniel Longhi Fernandes Pedro\n",
      "111.111.111-11\n",
      "Avenida Jose Bonifacio, 967\n",
      "600\n",
      "0\n",
      "Seu saldo é: 300\n",
      "300\n",
      "--------\n",
      "Jose Lucas\n",
      "222.222.222-22\n",
      "Rua Primeiro de Maio, 967\n",
      "600\n",
      "0\n",
      "Seu saldo é: 300\n",
      "300\n",
      "--------\n",
      "FIEP\n",
      "222.222.222-22\n",
      "Rua Primeiro, 967\n",
      "1000\n",
      "Seu saldo é: 10020\n",
      "10020\n",
      "1000\n",
      "Seu limite é: 5000\n",
      "5000\n",
      "--------\n"
     ]
    }
   ],
   "source": [
    "pFisica1 = PessoaFisica(\"Daniel Longhi Fernandes Pedro\", \"Avenida Jose Bonifacio, 967\", 600)\n",
    "pFisica1.setCPF(\"111.111.111-11\")\n",
    "\n",
    "pFisica2 = PessoaFisica(\"Jose Lucas\", \"Rua Primeiro de Maio, 967\", 600)\n",
    "pFisica2.setCPF(\"222.222.222-22\")\n",
    "\n",
    "pJuridica = PessoaJuridica(\"FIEP\", \"Rua Primeiro, 967\", 1000)\n",
    "pJuridica.setCNPJ(\"222.222.222-22\")\n",
    "\n",
    "print(pFisica1.getNome())\n",
    "print(pFisica1.getCPF())\n",
    "print(pFisica1.getEndereco())\n",
    "print(pFisica1.contaCorrente.getLimiteCredito())\n",
    "print(pFisica1.contaPoupanca.getSaldo())\n",
    "print(pFisica1.depositoConta(300))\n",
    "print(pFisica1.contaCorrente.getSaldo())\n",
    "print (\"--------\")\n",
    "print(pFisica2.getNome())\n",
    "print(pFisica2.getCPF())\n",
    "print(pFisica2.getEndereco())\n",
    "print(pFisica2.contaCorrente.getLimiteCredito())\n",
    "print(pFisica2.contaPoupanca.getSaldo())\n",
    "print(pFisica2.depositoConta(300))\n",
    "print(pFisica2.contaCorrente.getSaldo())\n",
    "print (\"--------\")\n",
    "print(pJuridica.getNome())\n",
    "print(pJuridica.getCNPJF())\n",
    "print(pJuridica.getEndereco())\n",
    "print(pJuridica.contaCorrente.getLimiteCredito())\n",
    "print(pJuridica.depositoConta(10020))\n",
    "print(pJuridica.contaCorrente.getSaldo())\n",
    "print(pJuridica.contaCorrente.getLimiteCredito())\n",
    "print(pJuridica.contaCorrente.setLimiteCredito(5000))\n",
    "print(pJuridica.contaCorrente.getLimiteCredito())\n",
    "print (\"--------\")"
   ]
  }
 ],
 "metadata": {
  "kernelspec": {
   "display_name": "Python [conda env:ambDanielFiep] *",
   "language": "python",
   "name": "conda-env-ambDanielFiep-py"
  },
  "language_info": {
   "codemirror_mode": {
    "name": "ipython",
    "version": 3
   },
   "file_extension": ".py",
   "mimetype": "text/x-python",
   "name": "python",
   "nbconvert_exporter": "python",
   "pygments_lexer": "ipython3",
   "version": "3.7.4"
  }
 },
 "nbformat": 4,
 "nbformat_minor": 2
}
