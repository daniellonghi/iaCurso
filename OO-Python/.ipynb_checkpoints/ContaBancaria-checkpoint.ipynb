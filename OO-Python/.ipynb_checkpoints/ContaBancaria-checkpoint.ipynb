{
 "cells": [
  {
   "cell_type": "code",
   "execution_count": 1,
   "metadata": {},
   "outputs": [],
   "source": [
    "class Clientes():\n",
    "    nomeCliente = \"\"\n",
    "    enderecoCliente = \"\"\n",
    "    \n",
    "    def __init__(self,nome,endereco, credito):\n",
    "        self.nomeCliente = nome\n",
    "        self.enderecoCliente = endereco\n",
    "        self.contaPoupanca = Poupanca(1)\n",
    "        self.contaCorrente = Corrente(2,credito)\n",
    "    \n",
    "    def getNome(self):\n",
    "        return self.nomeCliente\n",
    "    \n",
    "    def setNome(self, nome):\n",
    "        self.nomeCliente = nome\n",
    "    \n",
    "    def setEndereco(self, endereco):\n",
    "        self.enderecoCliente = endereco\n",
    "    \n",
    "    def getEndereco(self):\n",
    "        return self.enderecoCliente\n",
    "        \n",
    "    def saqueConta(self,saque):\n",
    "        if saque <= self.contaCorrente.getSaldo():\n",
    "            return \"Saque com sucesso. Seu saldo é de :\" + self.getSaldo()\n",
    "        else:\n",
    "            return \"Saldo insuficiente\"\n",
    "        \n",
    "    def depositoConta(self,deposito):\n",
    "        self.contaCorrente.setSaldo(deposito)\n",
    "        return \"Seu saldo é: \" +  str(self.contaCorrente.getSaldo())"
   ]
  },
  {
   "cell_type": "code",
   "execution_count": 2,
   "metadata": {},
   "outputs": [],
   "source": [
    "class PessoaFisica(Clientes):\n",
    "    pessoaCPF = \"\"\n",
    "    \n",
    "    def __init__(self,nome,endereco,credito):\n",
    "        super().__init__(nome,endereco,credito)\n",
    "    \n",
    "    def setCPF(self,cpf):\n",
    "        self.pessoaCPF = cpf\n",
    "    \n",
    "    def getCPF(self):\n",
    "        return self.pessoaCPF"
   ]
  },
  {
   "cell_type": "code",
   "execution_count": 3,
   "metadata": {},
   "outputs": [],
   "source": [
    "class PessoaJuridica(Clientes):\n",
    "    pessoaCNPJ = \"\"\n",
    "    \n",
    "    def __init__(self,nome,endereco,credito):\n",
    "        super().__init__(nome,endereco,credito)\n",
    "        \n",
    "    def setCNPJ(self,cnpj):\n",
    "        self.pessoaCNPJ = cnpj\n",
    "    \n",
    "    def getCNPJF(self):\n",
    "        return self.pessoaCNPJ"
   ]
  },
  {
   "cell_type": "code",
   "execution_count": null,
   "metadata": {},
   "outputs": [],
   "source": [
    "class Conta():\n",
    "    numeroConta = 0\n",
    "    saldo = 0\n",
    "    tipo = 0\n",
    "    \n",
    "    def getNumeroConta(self):\n",
    "        return self.getNumeroConta\n",
    "    \n",
    "    def setNumeroConta(self,numero):\n",
    "        self.numeroConta = numero\n",
    "   \n",
    "    def getSaldo(self):\n",
    "        return self.saldo\n",
    "    \n",
    "    def setSaldo(self,saldo):\n",
    "        self.saldo = saldo\n"
   ]
  },
  {
   "cell_type": "code",
   "execution_count": null,
   "metadata": {},
   "outputs": [],
   "source": [
    "class Poupanca(Conta):    \n",
    "    def __init__(self, tipo):\n",
    "        self.tipo = tipo"
   ]
  },
  {
   "cell_type": "code",
   "execution_count": null,
   "metadata": {},
   "outputs": [],
   "source": [
    "class Corrente(Conta):\n",
    "    limiteCredito = 600\n",
    "    \n",
    "    def __init__(self, tipo, credito):\n",
    "        self.tipo = tipo\n",
    "        self.limiteCredito = credito\n",
    "    \n",
    "    def getLimiteCredito(self):\n",
    "        return self.limiteCredito\n",
    "        \n",
    "    def setLimiteCredito(self,limite):\n",
    "        self.limiteCredito = limite\n",
    "        return \"Seu limite é: \" +  str(self.getLimiteCredito())"
   ]
  }
 ],
 "metadata": {
  "kernelspec": {
   "display_name": "Python [conda env:ambDanielFiep] *",
   "language": "python",
   "name": "conda-env-ambDanielFiep-py"
  },
  "language_info": {
   "codemirror_mode": {
    "name": "ipython",
    "version": 3
   },
   "file_extension": ".py",
   "mimetype": "text/x-python",
   "name": "python",
   "nbconvert_exporter": "python",
   "pygments_lexer": "ipython3",
   "version": "3.7.4"
  }
 },
 "nbformat": 4,
 "nbformat_minor": 2
}
