{
 "cells": [
  {
   "cell_type": "code",
   "execution_count": 4,
   "metadata": {},
   "outputs": [],
   "source": [
    "class novaClasse(object):\n",
    "    __idade = 2\n",
    "    nome = \"novoNome\"\n",
    "    def __init__(self):\n",
    "        print(\"constructor\")\n",
    "    def alteraNome(self):\n",
    "        print(\"funcao altera nome\")\n",
    "    def getIdade(self):\n",
    "        return (self.__idade)\n",
    "    def setIdade(self, novaIdade):\n",
    "        self.__idade = novaIdade"
   ]
  },
  {
   "cell_type": "code",
   "execution_count": 7,
   "metadata": {},
   "outputs": [
    {
     "name": "stdout",
     "output_type": "stream",
     "text": [
      "constructor\n",
      "novoNome\n",
      "funcao altera nome\n",
      "None\n",
      "33\n",
      "2\n",
      "42\n"
     ]
    }
   ],
   "source": [
    "obj = novaClasse()\n",
    "\n",
    "print(obj.nome)\n",
    "print(obj.alteraNome())\n",
    "obj.nome = 33\n",
    "print(obj.nome)\n",
    "\n",
    "print(obj.getIdade())\n",
    "obj.setIdade(42)\n",
    "print(obj.getIdade())"
   ]
  },
  {
   "cell_type": "code",
   "execution_count": 8,
   "metadata": {},
   "outputs": [],
   "source": [
    "class Coordinate(object):\n",
    "    def __init__(self,x,y):\n",
    "        self.x = x\n",
    "        self.y = y\n",
    "    def __str__(self):\n",
    "        return \"<\" + str(self.x) + \",\" + str(self.y) + \">\"\n",
    "    \n",
    "    def distance(self, other):\n",
    "        x_diff_sq = (self.x - other.x) **2\n",
    "        y_diff_sq = (self.y - other.y) **2\n",
    "        return (x_diff_sq + y_diff_sq) **0.5"
   ]
  },
  {
   "cell_type": "code",
   "execution_count": null,
   "metadata": {},
   "outputs": [],
   "source": [
    "c = Coordinate(3,4)\n",
    "c2 = Coordinate(-3,-4)\n",
    "c3 = Coordinate(5,25)\n"
   ]
  }
 ],
 "metadata": {
  "kernelspec": {
   "display_name": "Python [conda env:ambDanielFiep] *",
   "language": "python",
   "name": "conda-env-ambDanielFiep-py"
  },
  "language_info": {
   "codemirror_mode": {
    "name": "ipython",
    "version": 3
   },
   "file_extension": ".py",
   "mimetype": "text/x-python",
   "name": "python",
   "nbconvert_exporter": "python",
   "pygments_lexer": "ipython3",
   "version": "3.7.4"
  }
 },
 "nbformat": 4,
 "nbformat_minor": 2
}
