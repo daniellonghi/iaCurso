{
 "cells": [
  {
   "cell_type": "code",
   "execution_count": 30,
   "metadata": {},
   "outputs": [],
   "source": [
    "class FormaDeAluminio():\n",
    "    __ingredientes = {}\n",
    "    \n",
    "    def __init__(self, ingredientes):\n",
    "        self.__ingredientes = ingredientes\n",
    "    \n",
    "    def untarForma(self, comOQue):\n",
    "        print(\"Sua forma foi untada com \" + comOQue)\n",
    "    \n",
    "    def iniciarPreparoDaMassa(self):\n",
    "        print(\"Iniciando preparo da Massa\")\n",
    "        for keys, values in self.__ingredientes.items():\n",
    "            print(\"Adicionando \" + values)\n",
    "        print(\"Batendo. Aguarde 10 minutos\")\n",
    "    \n",
    "    def iniciarFogao(self,temperatura):\n",
    "        print(\"Seu fogao esta ligado a: \" + str(temperatura) + \" graus\")\n",
    "        \n",
    "    def inserirFogaoMassa(self,tempo):\n",
    "        print(\"Sua massa esta no fogao, aguarde \" + str(tempo) + \" minutos.\")"
   ]
  },
  {
   "cell_type": "code",
   "execution_count": 31,
   "metadata": {},
   "outputs": [
    {
     "name": "stdout",
     "output_type": "stream",
     "text": [
      "Sua forma foi untada com Oleo\n",
      "Seu fogao esta ligado a: 180 graus\n",
      "Iniciando preparo da Massa\n",
      "Adicionando 3 Ovos\n",
      "Adicionando 2 Chicaras Acucar\n",
      "Adicionando 2 Chicaras de Farinha\n",
      "Batendo. Aguarde 10 minutos\n",
      "Sua massa esta no fogao, aguarde 40 minutos.\n"
     ]
    }
   ],
   "source": [
    "definirIngredientes = {}\n",
    "definirIngredientes[0] = \"3 Ovos\"\n",
    "definirIngredientes[1] = \"2 Chicaras Acucar\"\n",
    "definirIngredientes[2] = \"2 Chicaras de Farinha\"\n",
    "\n",
    "boloChocolate = FormaDeAluminio(definirIngredientes);\n",
    "boloChocolate.untarForma(\"Oleo\")\n",
    "boloChocolate.iniciarFogao(\"180\")\n",
    "boloChocolate.iniciarPreparoDaMassa()\n",
    "boloChocolate.inserirFogaoMassa(\"40\")"
   ]
  },
  {
   "cell_type": "code",
   "execution_count": 32,
   "metadata": {},
   "outputs": [
    {
     "name": "stdout",
     "output_type": "stream",
     "text": [
      "Sua forma foi untada com Margarina\n",
      "Seu fogao esta ligado a: 200 graus\n",
      "Iniciando preparo da Massa\n",
      "Adicionando 2 Ovos\n",
      "Adicionando 1 Chicaras Acucar\n",
      "Adicionando 2 Chicaras de Farinha\n",
      "Batendo. Aguarde 10 minutos\n",
      "Sua massa esta no fogao, aguarde 30 minutos.\n"
     ]
    }
   ],
   "source": [
    "definirIngredientes = {}\n",
    "definirIngredientes[0] = \"2 Ovos\"\n",
    "definirIngredientes[1] = \"1 Chicaras Acucar\"\n",
    "definirIngredientes[2] = \"2 Chicaras de Farinha\"\n",
    "\n",
    "boloChocolate = FormaDeAluminio(definirIngredientes);\n",
    "boloChocolate.untarForma(\"Margarina\")\n",
    "boloChocolate.iniciarFogao(\"200\")\n",
    "boloChocolate.iniciarPreparoDaMassa()\n",
    "boloChocolate.inserirFogaoMassa(\"30\")"
   ]
  }
 ],
 "metadata": {
  "kernelspec": {
   "display_name": "Python [conda env:ambDanielFiep] *",
   "language": "python",
   "name": "conda-env-ambDanielFiep-py"
  },
  "language_info": {
   "codemirror_mode": {
    "name": "ipython",
    "version": 3
   },
   "file_extension": ".py",
   "mimetype": "text/x-python",
   "name": "python",
   "nbconvert_exporter": "python",
   "pygments_lexer": "ipython3",
   "version": "3.7.4"
  }
 },
 "nbformat": 4,
 "nbformat_minor": 2
}
