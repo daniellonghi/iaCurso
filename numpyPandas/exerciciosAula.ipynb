{
 "cells": [
  {
   "cell_type": "markdown",
   "metadata": {},
   "source": [
    "# Exercícios:\n",
    " - Crie um array com 10 elementos usando a função arange\n",
    "\n",
    " - Transforme esse array de 1D (1x10) para 2D (2x5) usando a função reshape\n",
    "\n",
    " - Crie duas matrizes bidimensionais com valores aleatórios calcule a transposta de cada matriz multiplique as duas matrizes\n",
    "\n",
    " - Salve as matrizes de entrada e a de saída em arquivos. Qual o tamanho dos arquivos gerados?\n",
    "\n",
    " - Crie duas bidimensionais matrizes com valores aleatórios e gere uma única matriz combinando linha a linha"
   ]
  },
  {
   "cell_type": "code",
   "execution_count": 28,
   "metadata": {},
   "outputs": [
    {
     "name": "stdout",
     "output_type": "stream",
     "text": [
      "10 Elementos -  [0 1 2 3 4]\n",
      " - - - - - \n",
      "Transormando Original\n",
      "[[0. 0. 0. 0. 0. 0. 0. 0. 0. 0.]]\n",
      "Transormando Reshape\n",
      "[[0. 0. 0. 0. 0.]\n",
      " [0. 0. 0. 0. 0.]]\n",
      " - - - - - \n",
      "Matriz 1\n",
      "[[0.37389698 0.54513855]\n",
      " [0.62738767 0.97783364]]\n",
      "Matriz 2\n",
      "[[0.00909071 0.30004583]\n",
      " [0.82507378 0.63398073]]\n",
      " - - - - - \n",
      "Matriz 1 - Transposta\n",
      "[[0.37389698 0.62738767]\n",
      " [0.54513855 0.97783364]]\n",
      "Matriz 2 - Transposta\n",
      "[[0.00909071 0.82507378]\n",
      " [0.30004583 0.63398073]]\n",
      " - - - - - \n",
      "Matriz 1 X Matriz 2\n",
      "[[0.45317852 0.45779357]\n",
      " [0.8124883  0.80817274]]\n",
      " - - - - - \n",
      "Salvando\n",
      " - - - - - \n",
      "2 Matriz Bidimensional e Combina-las\n",
      "Matriz 1\n",
      "[[0.69129086 0.49537906 0.9886032 ]\n",
      " [0.4022992  0.38666568 0.12849174]\n",
      " [0.01423367 0.94309067 0.08238889]]\n",
      "Matriz 2\n",
      "[[0.43009427 0.05328514 0.34343248]\n",
      " [0.64189352 0.21412062 0.05104798]\n",
      " [0.20436447 0.1151536  0.02003963]]\n",
      "Matriz combinada por linha (axis = 1) | coluna (axis = 0)\n",
      "[[0.69129086 0.49537906 0.9886032  0.43009427 0.05328514 0.34343248]\n",
      " [0.4022992  0.38666568 0.12849174 0.64189352 0.21412062 0.05104798]\n",
      " [0.01423367 0.94309067 0.08238889 0.20436447 0.1151536  0.02003963]]\n"
     ]
    }
   ],
   "source": [
    "import numpy as np\n",
    "\n",
    "arrayDezElementos = np.arange(5)\n",
    "print(\"10 Elementos - \", arrayDezElementos)\n",
    "print (\" - - - - - \")\n",
    "matrizReshape = np.zeros([1,10])\n",
    "print(\"Transormando Original\")\n",
    "print(matrizReshape)\n",
    "print(\"Transormando Reshape\")\n",
    "print(matrizReshape.reshape(2,5))\n",
    "print (\" - - - - - \")\n",
    "matrizBiOne = np.random.random([2,2])\n",
    "print(\"Matriz 1\")\n",
    "print(matrizBiOne)\n",
    "print(\"Matriz 2\")\n",
    "matrizBiTwo = np.random.random([2,2])\n",
    "print(matrizBiTwo)\n",
    "print (\" - - - - - \")\n",
    "print(\"Matriz 1 - Transposta\")\n",
    "print(matrizBiOne.transpose())\n",
    "print(\"Matriz 2 - Transposta\")\n",
    "print(matrizBiTwo.transpose())\n",
    "print (\" - - - - - \")\n",
    "print(\"Matriz 1 X Matriz 2\")\n",
    "print(np.dot(matrizBiOne, matrizBiTwo))\n",
    "print (\" - - - - - \")\n",
    "print (\"Salvando\")\n",
    "np.savetxt(\"matrizBiOne.txt\", matrizBiOne)\n",
    "np.savetxt(\"matrizBiTwo.txt\", matrizBiOne)\n",
    "np.savetxt(\"multiplication.txt\", np.dot(matrizBiOne, matrizBiTwo))\n",
    "print (\" - - - - - \")\n",
    "print (\"2 Matriz Bidimensional e Combina-las\")\n",
    "matrizBiOne = np.random.random([3,3])\n",
    "print(\"Matriz 1\")\n",
    "print(matrizBiOne)\n",
    "print(\"Matriz 2\")\n",
    "matrizBiTwo = np.random.random([3,3])\n",
    "print(matrizBiTwo)\n",
    "combiningMatriz = np.concatenate((matrizBiOne, matrizBiTwo), axis = 1)\n",
    "print(\"Matriz combinada por linha (axis = 1) | coluna (axis = 0)\")\n",
    "print(combiningMatriz)"
   ]
  }
 ],
 "metadata": {
  "kernelspec": {
   "display_name": "Python [conda env:ambDanielFiep] *",
   "language": "python",
   "name": "conda-env-ambDanielFiep-py"
  },
  "language_info": {
   "codemirror_mode": {
    "name": "ipython",
    "version": 3
   },
   "file_extension": ".py",
   "mimetype": "text/x-python",
   "name": "python",
   "nbconvert_exporter": "python",
   "pygments_lexer": "ipython3",
   "version": "3.7.4"
  }
 },
 "nbformat": 4,
 "nbformat_minor": 2
}
