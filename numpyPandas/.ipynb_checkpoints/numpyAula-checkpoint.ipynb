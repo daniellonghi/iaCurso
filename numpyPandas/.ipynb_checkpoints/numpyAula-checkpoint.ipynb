{
 "cells": [
  {
   "cell_type": "code",
   "execution_count": 25,
   "metadata": {},
   "outputs": [
    {
     "name": "stdout",
     "output_type": "stream",
     "text": [
      "[[1. 0. 0. 0. 0.]\n",
      " [0. 1. 0. 0. 0.]\n",
      " [0. 0. 1. 0. 0.]\n",
      " [0. 0. 0. 1. 0.]\n",
      " [0. 0. 0. 0. 1.]]\n",
      " - - - - - \n",
      "(5, 5)\n",
      " - - - - - \n",
      "2\n",
      " - - - - - \n",
      "25\n",
      " - - - - - \n",
      "float64\n",
      "[0 1 2 3 4]\n",
      " - - - - - \n",
      "5\n",
      " - - - - - \n",
      "[[1. 0. 0. 0. 0.]\n",
      " [0. 1. 0. 0. 0.]\n",
      " [0. 0. 1. 0. 0.]\n",
      " [0. 0. 0. 1. 0.]\n",
      " [0. 0. 0. 0. 1.]]\n",
      " - - - - - \n",
      "[1. 1. 1. 1. 1.]\n",
      " - - - - - \n",
      "[0. 0. 0. 0. 0.]\n",
      " - - - - - \n"
     ]
    }
   ],
   "source": [
    "#Diferenca de Lista e Numpy\n",
    "# Lista -> Cria uma lista generica (texto, texto com numero, lista de lista).\n",
    "# Numpy -> Importante para trabalhar com matrizes. Definir o numero de dimensoes.\n",
    "\n",
    "import numpy as np\n",
    "\n",
    "testeArray = np.ndarray([5,5])\n",
    "#testeArray = np.zeros([5,5])\n",
    "\n",
    "print(testeArray)\n",
    "print(\" - - - - - \")\n",
    "print(testeArray.shape)\n",
    "print(\" - - - - - \")\n",
    "print(testeArray.ndim)\n",
    "print(\" - - - - - \")\n",
    "print(testeArray.size)\n",
    "print(\" - - - - - \")\n",
    "print(testeArray.dtype)\n",
    "\n",
    "\n",
    "testeArray = np.arange(5)\n",
    "print(testeArray)\n",
    "print(\" - - - - - \")\n",
    "\n",
    "testeArray = np.array(5)\n",
    "print(testeArray)\n",
    "print(\" - - - - - \")\n",
    "\n",
    "testeArray = np.identity(5)\n",
    "print(testeArray)\n",
    "print(\" - - - - - \")\n",
    "\n",
    "testeArray = np.ones(5)\n",
    "print(testeArray)\n",
    "print(\" - - - - - \")\n",
    "\n",
    "testeArray = np.zeros(5)\n",
    "print(testeArray)\n",
    "print(\" - - - - - \")"
   ]
  },
  {
   "cell_type": "code",
   "execution_count": 47,
   "metadata": {},
   "outputs": [
    {
     "name": "stdout",
     "output_type": "stream",
     "text": [
      "[[0 1 2 3 4]\n",
      " [0 1 2 3 4]]\n",
      " - - - - - \n",
      "[[0 1]\n",
      " [2 3]\n",
      " [4 0]\n",
      " [1 2]\n",
      " [3 4]]\n",
      " - - - - - \n",
      "[[0]\n",
      " [1]\n",
      " [2]\n",
      " [3]\n",
      " [4]\n",
      " [0]\n",
      " [1]\n",
      " [2]\n",
      " [3]\n",
      " [4]]\n",
      " - - - - - \n",
      "[[0 0]\n",
      " [1 1]\n",
      " [2 2]\n",
      " [3 3]\n",
      " [4 4]]\n",
      " - - - - - \n"
     ]
    }
   ],
   "source": [
    "teste = np.array([np.arange(5),np.arange(5)])\n",
    "print(teste)\n",
    "print(\" - - - - - \")\n",
    "print(teste.reshape(5,2))\n",
    "print(\" - - - - - \")\n",
    "print(teste.reshape(10,1))\n",
    "print(\" - - - - - \")\n",
    "print(np.transpose(teste))\n",
    "print(\" - - - - - \")"
   ]
  },
  {
   "cell_type": "code",
   "execution_count": 57,
   "metadata": {},
   "outputs": [
    {
     "name": "stdout",
     "output_type": "stream",
     "text": [
      "[[0. 0. 0. 0. 0.]\n",
      " [0. 0. 0. 0. 0.]\n",
      " [0. 0. 0. 0. 0.]\n",
      " [0. 0. 0. 0. 0.]\n",
      " [0. 0. 0. 0. 0.]]\n",
      "numpyAula.ipynb  testeAula  testeAula.txt\r\n"
     ]
    }
   ],
   "source": [
    "#Save and Load file with Numpy\n",
    "\n",
    "newArray = np.zeros([5,5])\n",
    "np.savetxt(\"testeAula\", newArray)\n",
    "\n",
    "loadFile = np.loadtxt(\"testeAula\")\n",
    "\n",
    "print(loadFile)\n",
    "\n",
    "!ls"
   ]
  }
 ],
 "metadata": {
  "kernelspec": {
   "display_name": "Python [conda env:ambDanielFiep] *",
   "language": "python",
   "name": "conda-env-ambDanielFiep-py"
  },
  "language_info": {
   "codemirror_mode": {
    "name": "ipython",
    "version": 3
   },
   "file_extension": ".py",
   "mimetype": "text/x-python",
   "name": "python",
   "nbconvert_exporter": "python",
   "pygments_lexer": "ipython3",
   "version": "3.7.4"
  }
 },
 "nbformat": 4,
 "nbformat_minor": 2
}
