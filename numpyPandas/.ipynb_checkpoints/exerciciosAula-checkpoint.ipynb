{
 "cells": [
  {
   "cell_type": "markdown",
   "metadata": {},
   "source": [
    "# Exercícios:\n",
    " - Crie um array com 10 elementos usando a função arange\n",
    "\n",
    " - Transforme esse array de 1D (1x10) para 2D (2x5) usando a função reshape\n",
    "\n",
    " - Crie duas matrizes bidimensionais com valores aleatórios calcule a transposta de cada matriz multiplique as duas matrizes\n",
    "\n",
    " - Salve as matrizes de entrada e a de saída em arquivos. Qual o tamanho dos arquivos gerados?\n",
    "\n",
    " - Crie duas bidimensionais matrizes com valores aleatórios e gere uma única matriz combinando linha a linha"
   ]
  },
  {
   "cell_type": "code",
   "execution_count": 26,
   "metadata": {},
   "outputs": [
    {
     "name": "stdout",
     "output_type": "stream",
     "text": [
      "10 Elementos -  [0 1 2 3 4]\n",
      " - - - - - \n",
      "Transormando Original\n",
      "[[0. 0. 0. 0. 0. 0. 0. 0. 0. 0.]]\n",
      "Transormando Reshape\n",
      "[[0. 0. 0. 0. 0.]\n",
      " [0. 0. 0. 0. 0.]]\n",
      " - - - - - \n",
      "Matriz 1\n",
      "[[0.01129426 0.93292808]\n",
      " [0.0038794  0.83658873]]\n",
      "Matriz 2\n",
      "[[0.51022945 0.87329724]\n",
      " [0.85212987 0.35661049]]\n",
      " - - - - - \n",
      "Matriz 1 - Transposta\n",
      "[[0.01129426 0.0038794 ]\n",
      " [0.93292808 0.83658873]]\n",
      "Matriz 2 - Transposta\n",
      "[[0.51022945 0.85212987]\n",
      " [0.87329724 0.35661049]]\n",
      " - - - - - \n",
      "Matriz 1 X Matriz 2\n",
      "[[0.80073855 0.34255518]\n",
      " [0.71486163 0.30172418]]\n",
      " - - - - - \n",
      "Salvando\n",
      " - - - - - \n",
      "2 Matriz Bidimensional e Combina-las\n",
      "Matriz 1\n",
      "[[0.60007661 0.24943604 0.24815493]\n",
      " [0.69024385 0.11675164 0.26637666]\n",
      " [0.86653512 0.00202954 0.54012058]]\n",
      "Matriz 2\n",
      "[[0.90491531 0.10537663 0.38879272]\n",
      " [0.69080175 0.55735957 0.86699241]\n",
      " [0.95769612 0.5525182  0.17476085]]\n",
      "Matriz combinada por linha (axis = 1) | coluna (axis = 0)\n",
      "[[0.60007661 0.24943604 0.24815493 0.90491531 0.10537663 0.38879272]\n",
      " [0.69024385 0.11675164 0.26637666 0.69080175 0.55735957 0.86699241]\n",
      " [0.86653512 0.00202954 0.54012058 0.95769612 0.5525182  0.17476085]]\n"
     ]
    }
   ],
   "source": [
    "import numpy as np\n",
    "\n",
    "arrayDezElementos = np.arange(5)\n",
    "print(\"10 Elementos - \", arrayDezElementos)\n",
    "print (\" - - - - - \")\n",
    "matrizReshape = np.zeros([1,10])\n",
    "print(\"Transormando Original\")\n",
    "print(matrizReshape)\n",
    "print(\"Transormando Reshape\")\n",
    "print(matrizReshape.reshape(2,5))\n",
    "print (\" - - - - - \")\n",
    "matrizBiOne = np.random.random([2,2])\n",
    "print(\"Matriz 1\")\n",
    "print(matrizBiOne)\n",
    "print(\"Matriz 2\")\n",
    "matrizBiTwo = np.random.random([2,2])\n",
    "print(matrizBiTwo)\n",
    "print (\" - - - - - \")\n",
    "print(\"Matriz 1 - Transposta\")\n",
    "print(matrizBiOne.transpose())\n",
    "print(\"Matriz 2 - Transposta\")\n",
    "print(matrizBiTwo.transpose())\n",
    "print (\" - - - - - \")\n",
    "print(\"Matriz 1 X Matriz 2\")\n",
    "print(np.dot(matrizBiOne, matrizBiTwo))\n",
    "print (\" - - - - - \")\n",
    "print (\"Salvando\")\n",
    "np.savetxt(\"matrizBiOne.txt\", matrizBiOne)\n",
    "np.savetxt(\"matrizBiTwo.txt\", matrizBiOne)\n",
    "np.savetxt(\"multiplication.txt\", np.dot(matrizBiOne, matrizBiTwo))\n",
    "print (\" - - - - - \")\n",
    "print (\"2 Matriz Bidimensional e Combina-las\")\n",
    "matrizBiOne = np.random.random([3,3])\n",
    "print(\"Matriz 1\")\n",
    "print(matrizBiOne)\n",
    "print(\"Matriz 2\")\n",
    "matrizBiTwo = np.random.random([3,3])\n",
    "print(matrizBiTwo)\n",
    "combiningMatriz = np.concatenate((matrizBiOne, matrizBiTwo), axis = 1)\n",
    "print(\"Matriz combinada por linha (axis = 1) | coluna (axis = 0)\")\n",
    "print(combiningMatriz)"
   ]
  }
 ],
 "metadata": {
  "kernelspec": {
   "display_name": "Python [conda env:ambDanielFiep] *",
   "language": "python",
   "name": "conda-env-ambDanielFiep-py"
  },
  "language_info": {
   "codemirror_mode": {
    "name": "ipython",
    "version": 3
   },
   "file_extension": ".py",
   "mimetype": "text/x-python",
   "name": "python",
   "nbconvert_exporter": "python",
   "pygments_lexer": "ipython3",
   "version": "3.7.4"
  }
 },
 "nbformat": 4,
 "nbformat_minor": 2
}
