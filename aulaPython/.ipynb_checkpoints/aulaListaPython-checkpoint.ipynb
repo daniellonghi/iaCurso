{
 "cells": [
  {
   "cell_type": "code",
   "execution_count": 20,
   "metadata": {},
   "outputs": [
    {
     "name": "stdout",
     "output_type": "stream",
     "text": [
      "[[ 1.   3.   2.  10. ]\n",
      " [ 1.2 -0.2  0.   2. ]]\n",
      "--------\n",
      "[[ 9.   3.   2.  10. ]\n",
      " [ 1.2 -0.2  0.   2. ]]\n"
     ]
    }
   ],
   "source": [
    "import copy\n",
    "import numpy as np\n",
    "\n",
    "lista_2D = np.array([[1,3,2,10], [1.2,-0.2, 0, 2]])\n",
    "\n",
    "print(lista_2D)\n",
    "print(\"--------\")\n",
    "\n",
    "c = copy.deepcopy(lista_2D)\n",
    "c[0][0] = 9\n",
    "\n",
    "print (c)"
   ]
  },
  {
   "cell_type": "code",
   "execution_count": 34,
   "metadata": {},
   "outputs": [
    {
     "name": "stdout",
     "output_type": "stream",
     "text": [
      "['c', 'b', '0']\n",
      "--------\n",
      "['0', 'b', 'c']\n"
     ]
    }
   ],
   "source": [
    "books = []\n",
    "books.append(\"c\")\n",
    "books.append(\"b\")\n",
    "books.append(\"0\")\n",
    "\n",
    "print (books)\n",
    "print (\"--------\")\n",
    "books.sort()\n",
    "print (books)"
   ]
  },
  {
   "cell_type": "code",
   "execution_count": 41,
   "metadata": {},
   "outputs": [
    {
     "name": "stdout",
     "output_type": "stream",
     "text": [
      "[20, 321, 561, 5612, 672]\n",
      "--------\n",
      "5612\n",
      "--------\n",
      "20\n"
     ]
    }
   ],
   "source": [
    "numbers = [20,321,561,5612,672]\n",
    "\n",
    "print (numbers)\n",
    "print (\"--------\")\n",
    "print (max(numbers))\n",
    "print (\"--------\")\n",
    "print (min(numbers))"
   ]
  },
  {
   "cell_type": "code",
   "execution_count": 81,
   "metadata": {},
   "outputs": [
    {
     "name": "stdout",
     "output_type": "stream",
     "text": [
      "{1: 4, 2: 1, 3: 2, 5: 4, 23: 1, 4: 2, 12: 2, 6: 1, 21: 2}\n"
     ]
    }
   ],
   "source": [
    "arraItens = [1,2,3,5,1,23,3,5,1,4,5,1,12,4,6,12,21,5,21]\n",
    "contaDics = {}\n",
    "\n",
    "for i in range(len(arraItens)):\n",
    "    if arraItens[i] not in contaDics.keys():\n",
    "        contaDics[arraItens[i]] = 1\n",
    "    else:\n",
    "        contaDics[arraItens[i]]+=1\n",
    "\n",
    "print (contaDics)"
   ]
  },
  {
   "cell_type": "code",
   "execution_count": 82,
   "metadata": {},
   "outputs": [
    {
     "data": {
      "text/plain": [
       "[6, 12, 18]"
      ]
     },
     "execution_count": 82,
     "metadata": {},
     "output_type": "execute_result"
    }
   ],
   "source": [
    "vec = [2,4,6]\n",
    "[3*x for x in vec]"
   ]
  },
  {
   "cell_type": "code",
   "execution_count": 15,
   "metadata": {},
   "outputs": [
    {
     "name": "stdout",
     "output_type": "stream",
     "text": [
      "Digite o tamanho do vetor: 1\n",
      "[6]\n"
     ]
    }
   ],
   "source": [
    "import random\n",
    "inputSize = int(input(\"Digite o tamanho do vetor: \"))\n",
    "vetorNumbers = []\n",
    "for i in range (inputSize):\n",
    "    vetorNumbers.append(random.randint(0,10))\n",
    "print(vetorNumbers)"
   ]
  },
  {
   "cell_type": "code",
   "execution_count": 64,
   "metadata": {},
   "outputs": [
    {
     "name": "stdout",
     "output_type": "stream",
     "text": [
      "Digite a letra para excluir na exibicao: 2\n",
      "André\n",
      "Daniel\n",
      "Cristiano\n",
      "Wana\n",
      "Duan\n",
      "Harrison\n",
      "Alessandra\n",
      "Bruna\n",
      "Alexandre\n",
      "Lázaro\n",
      "Vitor\n",
      "Leonardo\n",
      "Sávio\n",
      "Lucas\n",
      "Rafael\n",
      "Jéssica\n",
      "Letícia\n",
      "Gabriel\n",
      "Gabriela\n",
      "Felipe\n",
      "Muriel\n"
     ]
    }
   ],
   "source": [
    "from funcaoPython import imprimeFuncao\n",
    "\n",
    "nomesHub = [\"André\", \"Daniel\", \"Cristiano\", \"Wana\", \"Duan\",\n",
    "            \"Harrison\", \"Alessandra\", \"Bruna\", \"Alexandre\", \"Lázaro\",\n",
    "            \"Vitor\", \"Leonardo\", \"Sávio\", \"Lucas\", \"Rafael\", \"Jéssica\", \"Letícia\",\n",
    "            \"Gabriel\", \"Gabriela\", \"Felipe\", \"Muriel\"]\n",
    "\n",
    "letraEntrada = input(\"Digite a letra para excluir na exibicao: \")\n",
    "\n",
    "imprimeFuncao(nomesHub, letraEntrada)"
   ]
  }
 ],
 "metadata": {
  "kernelspec": {
   "display_name": "Python [conda env:ambDanielFiep] *",
   "language": "python",
   "name": "conda-env-ambDanielFiep-py"
  },
  "language_info": {
   "codemirror_mode": {
    "name": "ipython",
    "version": 3
   },
   "file_extension": ".py",
   "mimetype": "text/x-python",
   "name": "python",
   "nbconvert_exporter": "python",
   "pygments_lexer": "ipython3",
   "version": "3.7.4"
  }
 },
 "nbformat": 4,
 "nbformat_minor": 2
}
