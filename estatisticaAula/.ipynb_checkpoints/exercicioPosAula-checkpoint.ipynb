{
 "cells": [
  {
   "cell_type": "code",
   "execution_count": 110,
   "metadata": {},
   "outputs": [],
   "source": [
    "#https://raw.githubusercontent.com/advinstai/python-datascience/master/csv/College.csv \n",
    "\n",
    "#Descubra as colunas qualitativas e quantitativas \n",
    "#Descreva os intervalos das colunas quantitativas\n",
    "#Calcule a media, mediana e moda de cada coluna quantitativa "
   ]
  },
  {
   "cell_type": "code",
   "execution_count": 178,
   "metadata": {},
   "outputs": [
    {
     "data": {
      "text/html": [
       "<div>\n",
       "<style scoped>\n",
       "    .dataframe tbody tr th:only-of-type {\n",
       "        vertical-align: middle;\n",
       "    }\n",
       "\n",
       "    .dataframe tbody tr th {\n",
       "        vertical-align: top;\n",
       "    }\n",
       "\n",
       "    .dataframe thead th {\n",
       "        text-align: right;\n",
       "    }\n",
       "</style>\n",
       "<table border=\"1\" class=\"dataframe\">\n",
       "  <thead>\n",
       "    <tr style=\"text-align: right;\">\n",
       "      <th></th>\n",
       "      <th>Name</th>\n",
       "      <th>Private</th>\n",
       "      <th>Apps</th>\n",
       "      <th>Accept</th>\n",
       "      <th>Enroll</th>\n",
       "      <th>Top10perc</th>\n",
       "      <th>Top25perc</th>\n",
       "      <th>F.Undergrad</th>\n",
       "      <th>P.Undergrad</th>\n",
       "      <th>Outstate</th>\n",
       "      <th>Room.Board</th>\n",
       "      <th>Books</th>\n",
       "      <th>Personal</th>\n",
       "      <th>PhD</th>\n",
       "      <th>Terminal</th>\n",
       "      <th>S.F.Ratio</th>\n",
       "      <th>perc.alumni</th>\n",
       "      <th>Expend</th>\n",
       "      <th>Grad.Rate</th>\n",
       "    </tr>\n",
       "  </thead>\n",
       "  <tbody>\n",
       "    <tr>\n",
       "      <th>0</th>\n",
       "      <td>Abilene Christian University</td>\n",
       "      <td>Yes</td>\n",
       "      <td>1660</td>\n",
       "      <td>1232</td>\n",
       "      <td>721</td>\n",
       "      <td>23</td>\n",
       "      <td>52</td>\n",
       "      <td>2885</td>\n",
       "      <td>537</td>\n",
       "      <td>7440</td>\n",
       "      <td>3300</td>\n",
       "      <td>450</td>\n",
       "      <td>2200</td>\n",
       "      <td>70</td>\n",
       "      <td>78</td>\n",
       "      <td>18.1</td>\n",
       "      <td>12</td>\n",
       "      <td>7041</td>\n",
       "      <td>60</td>\n",
       "    </tr>\n",
       "    <tr>\n",
       "      <th>1</th>\n",
       "      <td>Adelphi University</td>\n",
       "      <td>Yes</td>\n",
       "      <td>2186</td>\n",
       "      <td>1924</td>\n",
       "      <td>512</td>\n",
       "      <td>16</td>\n",
       "      <td>29</td>\n",
       "      <td>2683</td>\n",
       "      <td>1227</td>\n",
       "      <td>12280</td>\n",
       "      <td>6450</td>\n",
       "      <td>750</td>\n",
       "      <td>1500</td>\n",
       "      <td>29</td>\n",
       "      <td>30</td>\n",
       "      <td>12.2</td>\n",
       "      <td>16</td>\n",
       "      <td>10527</td>\n",
       "      <td>56</td>\n",
       "    </tr>\n",
       "    <tr>\n",
       "      <th>2</th>\n",
       "      <td>Adrian College</td>\n",
       "      <td>Yes</td>\n",
       "      <td>1428</td>\n",
       "      <td>1097</td>\n",
       "      <td>336</td>\n",
       "      <td>22</td>\n",
       "      <td>50</td>\n",
       "      <td>1036</td>\n",
       "      <td>99</td>\n",
       "      <td>11250</td>\n",
       "      <td>3750</td>\n",
       "      <td>400</td>\n",
       "      <td>1165</td>\n",
       "      <td>53</td>\n",
       "      <td>66</td>\n",
       "      <td>12.9</td>\n",
       "      <td>30</td>\n",
       "      <td>8735</td>\n",
       "      <td>54</td>\n",
       "    </tr>\n",
       "    <tr>\n",
       "      <th>3</th>\n",
       "      <td>Agnes Scott College</td>\n",
       "      <td>Yes</td>\n",
       "      <td>417</td>\n",
       "      <td>349</td>\n",
       "      <td>137</td>\n",
       "      <td>60</td>\n",
       "      <td>89</td>\n",
       "      <td>510</td>\n",
       "      <td>63</td>\n",
       "      <td>12960</td>\n",
       "      <td>5450</td>\n",
       "      <td>450</td>\n",
       "      <td>875</td>\n",
       "      <td>92</td>\n",
       "      <td>97</td>\n",
       "      <td>7.7</td>\n",
       "      <td>37</td>\n",
       "      <td>19016</td>\n",
       "      <td>59</td>\n",
       "    </tr>\n",
       "    <tr>\n",
       "      <th>4</th>\n",
       "      <td>Alaska Pacific University</td>\n",
       "      <td>Yes</td>\n",
       "      <td>193</td>\n",
       "      <td>146</td>\n",
       "      <td>55</td>\n",
       "      <td>16</td>\n",
       "      <td>44</td>\n",
       "      <td>249</td>\n",
       "      <td>869</td>\n",
       "      <td>7560</td>\n",
       "      <td>4120</td>\n",
       "      <td>800</td>\n",
       "      <td>1500</td>\n",
       "      <td>76</td>\n",
       "      <td>72</td>\n",
       "      <td>11.9</td>\n",
       "      <td>2</td>\n",
       "      <td>10922</td>\n",
       "      <td>15</td>\n",
       "    </tr>\n",
       "    <tr>\n",
       "      <th>...</th>\n",
       "      <td>...</td>\n",
       "      <td>...</td>\n",
       "      <td>...</td>\n",
       "      <td>...</td>\n",
       "      <td>...</td>\n",
       "      <td>...</td>\n",
       "      <td>...</td>\n",
       "      <td>...</td>\n",
       "      <td>...</td>\n",
       "      <td>...</td>\n",
       "      <td>...</td>\n",
       "      <td>...</td>\n",
       "      <td>...</td>\n",
       "      <td>...</td>\n",
       "      <td>...</td>\n",
       "      <td>...</td>\n",
       "      <td>...</td>\n",
       "      <td>...</td>\n",
       "      <td>...</td>\n",
       "    </tr>\n",
       "    <tr>\n",
       "      <th>772</th>\n",
       "      <td>Worcester State College</td>\n",
       "      <td>No</td>\n",
       "      <td>2197</td>\n",
       "      <td>1515</td>\n",
       "      <td>543</td>\n",
       "      <td>4</td>\n",
       "      <td>26</td>\n",
       "      <td>3089</td>\n",
       "      <td>2029</td>\n",
       "      <td>6797</td>\n",
       "      <td>3900</td>\n",
       "      <td>500</td>\n",
       "      <td>1200</td>\n",
       "      <td>60</td>\n",
       "      <td>60</td>\n",
       "      <td>21.0</td>\n",
       "      <td>14</td>\n",
       "      <td>4469</td>\n",
       "      <td>40</td>\n",
       "    </tr>\n",
       "    <tr>\n",
       "      <th>773</th>\n",
       "      <td>Xavier University</td>\n",
       "      <td>Yes</td>\n",
       "      <td>1959</td>\n",
       "      <td>1805</td>\n",
       "      <td>695</td>\n",
       "      <td>24</td>\n",
       "      <td>47</td>\n",
       "      <td>2849</td>\n",
       "      <td>1107</td>\n",
       "      <td>11520</td>\n",
       "      <td>4960</td>\n",
       "      <td>600</td>\n",
       "      <td>1250</td>\n",
       "      <td>73</td>\n",
       "      <td>75</td>\n",
       "      <td>13.3</td>\n",
       "      <td>31</td>\n",
       "      <td>9189</td>\n",
       "      <td>83</td>\n",
       "    </tr>\n",
       "    <tr>\n",
       "      <th>774</th>\n",
       "      <td>Xavier University of Louisiana</td>\n",
       "      <td>Yes</td>\n",
       "      <td>2097</td>\n",
       "      <td>1915</td>\n",
       "      <td>695</td>\n",
       "      <td>34</td>\n",
       "      <td>61</td>\n",
       "      <td>2793</td>\n",
       "      <td>166</td>\n",
       "      <td>6900</td>\n",
       "      <td>4200</td>\n",
       "      <td>617</td>\n",
       "      <td>781</td>\n",
       "      <td>67</td>\n",
       "      <td>75</td>\n",
       "      <td>14.4</td>\n",
       "      <td>20</td>\n",
       "      <td>8323</td>\n",
       "      <td>49</td>\n",
       "    </tr>\n",
       "    <tr>\n",
       "      <th>775</th>\n",
       "      <td>Yale University</td>\n",
       "      <td>Yes</td>\n",
       "      <td>10705</td>\n",
       "      <td>2453</td>\n",
       "      <td>1317</td>\n",
       "      <td>95</td>\n",
       "      <td>99</td>\n",
       "      <td>5217</td>\n",
       "      <td>83</td>\n",
       "      <td>19840</td>\n",
       "      <td>6510</td>\n",
       "      <td>630</td>\n",
       "      <td>2115</td>\n",
       "      <td>96</td>\n",
       "      <td>96</td>\n",
       "      <td>5.8</td>\n",
       "      <td>49</td>\n",
       "      <td>40386</td>\n",
       "      <td>99</td>\n",
       "    </tr>\n",
       "    <tr>\n",
       "      <th>776</th>\n",
       "      <td>York College of Pennsylvania</td>\n",
       "      <td>Yes</td>\n",
       "      <td>2989</td>\n",
       "      <td>1855</td>\n",
       "      <td>691</td>\n",
       "      <td>28</td>\n",
       "      <td>63</td>\n",
       "      <td>2988</td>\n",
       "      <td>1726</td>\n",
       "      <td>4990</td>\n",
       "      <td>3560</td>\n",
       "      <td>500</td>\n",
       "      <td>1250</td>\n",
       "      <td>75</td>\n",
       "      <td>75</td>\n",
       "      <td>18.1</td>\n",
       "      <td>28</td>\n",
       "      <td>4509</td>\n",
       "      <td>99</td>\n",
       "    </tr>\n",
       "  </tbody>\n",
       "</table>\n",
       "<p>777 rows × 19 columns</p>\n",
       "</div>"
      ],
      "text/plain": [
       "                               Name Private   Apps  Accept  Enroll  Top10perc  \\\n",
       "0      Abilene Christian University     Yes   1660    1232     721         23   \n",
       "1                Adelphi University     Yes   2186    1924     512         16   \n",
       "2                    Adrian College     Yes   1428    1097     336         22   \n",
       "3               Agnes Scott College     Yes    417     349     137         60   \n",
       "4         Alaska Pacific University     Yes    193     146      55         16   \n",
       "..                              ...     ...    ...     ...     ...        ...   \n",
       "772         Worcester State College      No   2197    1515     543          4   \n",
       "773               Xavier University     Yes   1959    1805     695         24   \n",
       "774  Xavier University of Louisiana     Yes   2097    1915     695         34   \n",
       "775                 Yale University     Yes  10705    2453    1317         95   \n",
       "776    York College of Pennsylvania     Yes   2989    1855     691         28   \n",
       "\n",
       "     Top25perc  F.Undergrad  P.Undergrad  Outstate  Room.Board  Books  \\\n",
       "0           52         2885          537      7440        3300    450   \n",
       "1           29         2683         1227     12280        6450    750   \n",
       "2           50         1036           99     11250        3750    400   \n",
       "3           89          510           63     12960        5450    450   \n",
       "4           44          249          869      7560        4120    800   \n",
       "..         ...          ...          ...       ...         ...    ...   \n",
       "772         26         3089         2029      6797        3900    500   \n",
       "773         47         2849         1107     11520        4960    600   \n",
       "774         61         2793          166      6900        4200    617   \n",
       "775         99         5217           83     19840        6510    630   \n",
       "776         63         2988         1726      4990        3560    500   \n",
       "\n",
       "     Personal  PhD  Terminal  S.F.Ratio  perc.alumni  Expend  Grad.Rate  \n",
       "0        2200   70        78       18.1           12    7041         60  \n",
       "1        1500   29        30       12.2           16   10527         56  \n",
       "2        1165   53        66       12.9           30    8735         54  \n",
       "3         875   92        97        7.7           37   19016         59  \n",
       "4        1500   76        72       11.9            2   10922         15  \n",
       "..        ...  ...       ...        ...          ...     ...        ...  \n",
       "772      1200   60        60       21.0           14    4469         40  \n",
       "773      1250   73        75       13.3           31    9189         83  \n",
       "774       781   67        75       14.4           20    8323         49  \n",
       "775      2115   96        96        5.8           49   40386         99  \n",
       "776      1250   75        75       18.1           28    4509         99  \n",
       "\n",
       "[777 rows x 19 columns]"
      ]
     },
     "metadata": {},
     "output_type": "display_data"
    }
   ],
   "source": [
    "import pandas as pd\n",
    "import numpy as np\n",
    "import matplotlib.pyplot as plt\n",
    "from collections import Counter\n",
    "\n",
    "pdColegio = pd.read_csv(\"https://raw.githubusercontent.com/advinstai/python-datascience/master/csv/College.csv\")\n",
    "\n",
    "pdColegio.rename(columns = {\"Unnamed: 0\": \"Name\"}, inplace = True)\n",
    "pdColegio.set_index(\"Name\")\n",
    "\n",
    "display(pdColegio)"
   ]
  },
  {
   "cell_type": "code",
   "execution_count": 112,
   "metadata": {},
   "outputs": [
    {
     "name": "stdout",
     "output_type": "stream",
     "text": [
      "Variavel Quantitativa\n",
      "['Name', 'Private']\n",
      " - - - - - - \n",
      "Variavel Qualitativa\n",
      "['Name', 'Private']\n"
     ]
    }
   ],
   "source": [
    "#Analisa QUALITATIVO do dataset\n",
    "itensColuna = pdColegio.columns\n",
    "variavelQualitativa = []\n",
    "variavelQuantitativa = []\n",
    "\n",
    "for i in range(len(itensColuna)):\n",
    "    if np.issubdtype(pdColegio[itensColuna[i]].dtype, np.number):\n",
    "        variavelQuantitativa.append(itensColuna[i])\n",
    "    else:\n",
    "        variavelQualitativa.append(itensColuna[i])\n",
    "\n",
    "print(\"Variavel Quantitativa\")\n",
    "print(variavelQualitativa)\n",
    "print(\" - - - - - - \")\n",
    "print(\"Variavel Qualitativa\")\n",
    "print(variavelQualitativa)"
   ]
  },
  {
   "cell_type": "code",
   "execution_count": 114,
   "metadata": {},
   "outputs": [
    {
     "name": "stdout",
     "output_type": "stream",
     "text": [
      "\"Name\" - is not a numeric column.\n",
      "\"Private\" - is not a numeric column.\n",
      "Apps - bins = 23.0\n"
     ]
    },
    {
     "data": {
      "image/png": "[encoded data removed]",
      "text/plain": [
       "<Figure size 432x288 with 1 Axes>"
      ]
     },
     "metadata": {
      "needs_background": "light"
     },
     "output_type": "display_data"
    },
    {
     "name": "stdout",
     "output_type": "stream",
     "text": [
      "Media: 3001.64 | Maior Valor: 48094 | Menor Valor: 81 | Std: 3867.71 | AmpBins: 2090.89 | AmpNormal: 48013\n",
      " - - - - - - - \n",
      "\n",
      "Accept - bins = 23.0\n"
     ]
    },
    {
     "data": {
      "image/png": "[encoded data removed]",
      "text/plain": [
       "<Figure size 432x288 with 1 Axes>"
      ]
     },
     "metadata": {
      "needs_background": "light"
     },
     "output_type": "display_data"
    },
    {
     "name": "stdout",
     "output_type": "stream",
     "text": [
      "Media: 2018.8 | Maior Valor: 26330 | Menor Valor: 72 | Std: 2449.54 | AmpBins: 1143.49 | AmpNormal: 26258\n",
      " - - - - - - - \n",
      "\n",
      "Enroll - bins = 23.0\n"
     ]
    },
    {
     "data": {
      "image/png": "[encoded data removed]",
      "text/plain": [
       "<Figure size 432x288 with 1 Axes>"
      ]
     },
     "metadata": {
      "needs_background": "light"
     },
     "output_type": "display_data"
    },
    {
     "name": "stdout",
     "output_type": "stream",
     "text": [
      "Media: 779.97 | Maior Valor: 6392 | Menor Valor: 35 | Std: 928.58 | AmpBins: 276.84 | AmpNormal: 6357\n",
      " - - - - - - - \n",
      "\n",
      "Top10perc - bins = 23.0\n"
     ]
    },
    {
     "data": {
      "image/png": "[encoded data removed]",
      "text/plain": [
       "<Figure size 432x288 with 1 Axes>"
      ]
     },
     "metadata": {
      "needs_background": "light"
     },
     "output_type": "display_data"
    },
    {
     "name": "stdout",
     "output_type": "stream",
     "text": [
      "Media: 27.56 | Maior Valor: 96 | Menor Valor: 1 | Std: 17.63 | AmpBins: 4.14 | AmpNormal: 95\n",
      " - - - - - - - \n",
      "\n",
      "Top25perc - bins = 23.0\n"
     ]
    },
    {
     "data": {
      "image/png": "[encoded data removed]",
      "text/plain": [
       "<Figure size 432x288 with 1 Axes>"
      ]
     },
     "metadata": {
      "needs_background": "light"
     },
     "output_type": "display_data"
    },
    {
     "name": "stdout",
     "output_type": "stream",
     "text": [
      "Media: 55.8 | Maior Valor: 100 | Menor Valor: 9 | Std: 19.79 | AmpBins: 3.96 | AmpNormal: 91\n",
      " - - - - - - - \n",
      "\n",
      "F.Undergrad - bins = 23.0\n"
     ]
    },
    {
     "data": {
      "image/png": "[encoded data removed]",
      "text/plain": [
       "<Figure size 432x288 with 1 Axes>"
      ]
     },
     "metadata": {
      "needs_background": "light"
     },
     "output_type": "display_data"
    },
    {
     "name": "stdout",
     "output_type": "stream",
     "text": [
      "Media: 3699.91 | Maior Valor: 31643 | Menor Valor: 139 | Std: 4847.3 | AmpBins: 1371.95 | AmpNormal: 31504\n",
      " - - - - - - - \n",
      "\n",
      "P.Undergrad - bins = 23.0\n"
     ]
    },
    {
     "data": {
      "image/png": "[encoded data removed]",
      "text/plain": [
       "<Figure size 432x288 with 1 Axes>"
      ]
     },
     "metadata": {
      "needs_background": "light"
     },
     "output_type": "display_data"
    },
    {
     "name": "stdout",
     "output_type": "stream",
     "text": [
      "Media: 855.3 | Maior Valor: 21836 | Menor Valor: 1 | Std: 1521.45 | AmpBins: 950.88 | AmpNormal: 21835\n",
      " - - - - - - - \n",
      "\n",
      "Outstate - bins = 23.0\n"
     ]
    },
    {
     "data": {
      "image/png": "[encoded data removed]",
      "text/plain": [
       "<Figure size 432x288 with 1 Axes>"
      ]
     },
     "metadata": {
      "needs_background": "light"
     },
     "output_type": "display_data"
    },
    {
     "name": "stdout",
     "output_type": "stream",
     "text": [
      "Media: 10440.67 | Maior Valor: 21700 | Menor Valor: 2340 | Std: 4020.43 | AmpBins: 843.1 | AmpNormal: 19360\n",
      " - - - - - - - \n",
      "\n",
      "Room.Board - bins = 23.0\n"
     ]
    },
    {
     "data": {
      "image/png": "[encoded data removed]",
      "text/plain": [
       "<Figure size 432x288 with 1 Axes>"
      ]
     },
     "metadata": {
      "needs_background": "light"
     },
     "output_type": "display_data"
    },
    {
     "name": "stdout",
     "output_type": "stream",
     "text": [
      "Media: 4357.53 | Maior Valor: 8124 | Menor Valor: 1780 | Std: 1095.99 | AmpBins: 276.27 | AmpNormal: 6344\n",
      " - - - - - - - \n",
      "\n",
      "Books - bins = 23.0\n"
     ]
    },
    {
     "data": {
      "image/png": "[encoded data removed]",
      "text/plain": [
       "<Figure size 432x288 with 1 Axes>"
      ]
     },
     "metadata": {
      "needs_background": "light"
     },
     "output_type": "display_data"
    },
    {
     "name": "stdout",
     "output_type": "stream",
     "text": [
      "Media: 549.38 | Maior Valor: 2340 | Menor Valor: 96 | Std: 165.0 | AmpBins: 97.72 | AmpNormal: 2244\n",
      " - - - - - - - \n",
      "\n",
      "Personal - bins = 23.0\n"
     ]
    },
    {
     "data": {
      "image/png": "[encoded data removed]",
      "text/plain": [
       "<Figure size 432x288 with 1 Axes>"
      ]
     },
     "metadata": {
      "needs_background": "light"
     },
     "output_type": "display_data"
    },
    {
     "name": "stdout",
     "output_type": "stream",
     "text": [
      "Media: 1340.64 | Maior Valor: 6800 | Menor Valor: 250 | Std: 676.64 | AmpBins: 285.24 | AmpNormal: 6550\n",
      " - - - - - - - \n",
      "\n",
      "PhD - bins = 23.0\n"
     ]
    },
    {
     "data": {
      "image/png": "[encoded data removed]",
      "text/plain": [
       "<Figure size 432x288 with 1 Axes>"
      ]
     },
     "metadata": {
      "needs_background": "light"
     },
     "output_type": "display_data"
    },
    {
     "name": "stdout",
     "output_type": "stream",
     "text": [
      "Media: 72.66 | Maior Valor: 103 | Menor Valor: 8 | Std: 16.32 | AmpBins: 4.14 | AmpNormal: 95\n",
      " - - - - - - - \n",
      "\n",
      "Terminal - bins = 23.0\n"
     ]
    },
    {
     "data": {
      "image/png": "[encoded data removed]",
      "text/plain": [
       "<Figure size 432x288 with 1 Axes>"
      ]
     },
     "metadata": {
      "needs_background": "light"
     },
     "output_type": "display_data"
    },
    {
     "name": "stdout",
     "output_type": "stream",
     "text": [
      "Media: 79.7 | Maior Valor: 100 | Menor Valor: 24 | Std: 14.71 | AmpBins: 3.31 | AmpNormal: 76\n",
      " - - - - - - - \n",
      "\n",
      "S.F.Ratio - bins = 23.0\n"
     ]
    },
    {
     "data": {
      "image/png": "[encoded data removed]",
      "text/plain": [
       "<Figure size 432x288 with 1 Axes>"
      ]
     },
     "metadata": {
      "needs_background": "light"
     },
     "output_type": "display_data"
    },
    {
     "name": "stdout",
     "output_type": "stream",
     "text": [
      "Media: 14.09 | Maior Valor: 39.8 | Menor Valor: 2.5 | Std: 3.96 | AmpBins: 1.62 | AmpNormal: 37.3\n",
      " - - - - - - - \n",
      "\n",
      "perc.alumni - bins = 23.0\n"
     ]
    },
    {
     "data": {
      "image/png": "[encoded data removed]",
      "text/plain": [
       "<Figure size 432x288 with 1 Axes>"
      ]
     },
     "metadata": {
      "needs_background": "light"
     },
     "output_type": "display_data"
    },
    {
     "name": "stdout",
     "output_type": "stream",
     "text": [
      "Media: 22.74 | Maior Valor: 64 | Menor Valor: 0 | Std: 12.38 | AmpBins: 2.79 | AmpNormal: 64\n",
      " - - - - - - - \n",
      "\n",
      "Expend - bins = 23.0\n"
     ]
    },
    {
     "data": {
      "image/png": "[encoded data removed]",
      "text/plain": [
       "<Figure size 432x288 with 1 Axes>"
      ]
     },
     "metadata": {
      "needs_background": "light"
     },
     "output_type": "display_data"
    },
    {
     "name": "stdout",
     "output_type": "stream",
     "text": [
      "Media: 9660.17 | Maior Valor: 56233 | Menor Valor: 3186 | Std: 5218.41 | AmpBins: 2310.11 | AmpNormal: 53047\n",
      " - - - - - - - \n",
      "\n",
      "Grad.Rate - bins = 23.0\n"
     ]
    },
    {
     "data": {
      "image/png": "[encoded data removed]",
      "text/plain": [
       "<Figure size 432x288 with 1 Axes>"
      ]
     },
     "metadata": {
      "needs_background": "light"
     },
     "output_type": "display_data"
    },
    {
     "name": "stdout",
     "output_type": "stream",
     "text": [
      "Media: 65.46 | Maior Valor: 118 | Menor Valor: 10 | Std: 17.17 | AmpBins: 4.7 | AmpNormal: 108\n",
      " - - - - - - - \n",
      "\n"
     ]
    }
   ],
   "source": [
    "for i in range(len(itensColuna)):\n",
    "    if np.issubdtype(pdColegio[itensColuna[i]].dtype, np.number):\n",
    "        #PARA NAO CALCULAR O BIN NA MAO\n",
    "        totalRotulos = 1+3.3*np.log(pdColegio[itensColuna[i]].size)\n",
    "        \n",
    "        print(itensColuna[i] + \" - bins = \" + str(round(totalRotulos)))\n",
    "        \n",
    "        todosValores = list(pdColegio[itensColuna[i]])\n",
    "        mediaValores = round(pdColegio[itensColuna[i]].mean(), 2)\n",
    "        maiorValor = round(pdColegio[itensColuna[i]].max(), 2)\n",
    "        menorValor = round(pdColegio[itensColuna[i]].min(), 2)\n",
    "        stdValor = round(np.std(todosValores),2)\n",
    "        amplitudeBins = round(((maiorValor-menorValor)/totalRotulos), 2)\n",
    "        amplitudeNormal = round(maiorValor-menorValor, 2)\n",
    "        plt.hist(todosValores, int(totalRotulos))\n",
    "        plt.show()\n",
    "        print(\"Media: \" + str(mediaValores) + \" | Maior Valor: \" +\n",
    "              str(maiorValor) + \" | Menor Valor: \" + str(menorValor) + \" | Std: \" +\n",
    "              str(stdValor) + \" | AmpBins: \" + str(amplitudeBins) + \n",
    "              \" | AmpNormal: \" + str(amplitudeNormal))\n",
    "        print(\" - - - - - - - \\n\")\n",
    "    else:\n",
    "        print('\"' + itensColuna[i] + '\"' + \" - is not a numeric column.\")"
   ]
  },
  {
   "cell_type": "code",
   "execution_count": 150,
   "metadata": {},
   "outputs": [
    {
     "name": "stdout",
     "output_type": "stream",
     "text": [
      "Media\n",
      "Apps - 3001.6383526383524\n",
      "Accept - 2018.8043758043757\n",
      "Enroll - 779.972972972973\n",
      "Top10perc - 27.55855855855856\n",
      "Top25perc - 55.7966537966538\n",
      "F.Undergrad - 3699.907335907336\n",
      "P.Undergrad - 855.2985842985843\n",
      "Outstate - 10440.66924066924\n",
      "Room.Board - 4357.526383526383\n",
      "Books - 549.3809523809524\n",
      "Personal - 1340.6422136422136\n",
      "PhD - 72.66023166023166\n",
      "Terminal - 79.70270270270271\n",
      "S.F.Ratio - 14.08970398970399\n",
      "perc.alumni - 22.743886743886744\n",
      "Expend - 9660.17117117117\n",
      "Grad.Rate - 65.46332046332046\n"
     ]
    }
   ],
   "source": [
    "print(\"Media\")\n",
    "for i in range(len(itensColuna)):\n",
    "    if np.issubdtype(pdColegio[itensColuna[i]].dtype, np.number):\n",
    "        print(str(itensColuna[i]) + \" - \" + str(pdColegio[itensColuna[i]].mean()))"
   ]
  },
  {
   "cell_type": "code",
   "execution_count": 151,
   "metadata": {},
   "outputs": [
    {
     "name": "stdout",
     "output_type": "stream",
     "text": [
      "Mediana\n",
      "Apps - 1558.0\n",
      "Accept - 1110.0\n",
      "Enroll - 434.0\n",
      "Top10perc - 23.0\n",
      "Top25perc - 54.0\n",
      "F.Undergrad - 1707.0\n",
      "P.Undergrad - 353.0\n",
      "Outstate - 9990.0\n",
      "Room.Board - 4200.0\n",
      "Books - 500.0\n",
      "Personal - 1200.0\n",
      "PhD - 75.0\n",
      "Terminal - 82.0\n",
      "S.F.Ratio - 13.6\n",
      "perc.alumni - 21.0\n",
      "Expend - 8377.0\n",
      "Grad.Rate - 65.0\n"
     ]
    }
   ],
   "source": [
    "print(\"Mediana\")\n",
    "for i in range(len(itensColuna)):\n",
    "    if np.issubdtype(pdColegio[itensColuna[i]].dtype, np.number):\n",
    "        print(str(itensColuna[i]) + \" - \" + str(pdColegio[itensColuna[i]].median()))"
   ]
  },
  {
   "cell_type": "code",
   "execution_count": 210,
   "metadata": {},
   "outputs": [
    {
     "name": "stdout",
     "output_type": "stream",
     "text": [
      "Moda\n",
      "Apps | Valor: 1006 - Qtd: 3\n",
      "Accept | Valor: 452 - Qtd: 4\n",
      "Enroll | Valor: 295 - Qtd: 5\n",
      "Top10perc | Valor: 20 - Qtd: 37\n",
      "Top25perc | Valor: 60 - Qtd: 20\n",
      "F.Undergrad | Valor: 1707 - Qtd: 3\n",
      "P.Undergrad | Valor: 30 - Qtd: 7\n",
      "Outstate | Valor: 6550 - Qtd: 13\n",
      "Room.Board | Valor: 4100 - Qtd: 9\n",
      "Books | Valor: 500 - Qtd: 178\n",
      "Personal | Valor: 1000 - Qtd: 45\n",
      "PhD | Valor: 77 - Qtd: 26\n",
      "Terminal | Valor: 96 - Qtd: 30\n",
      "S.F.Ratio | Valor: 12.1 - Qtd: 15\n",
      "perc.alumni | Valor: 10 - Qtd: 32\n",
      "Expend | Valor: 7041 - Qtd: 2\n",
      "Grad.Rate | Valor: 72 - Qtd: 24\n"
     ]
    }
   ],
   "source": [
    "print(\"Moda\")\n",
    "for i in range(len(itensColuna)):\n",
    "    if np.issubdtype(pdColegio[itensColuna[i]].dtype, np.number):\n",
    "        c = Counter(pdColegio[itensColuna[i]])\n",
    "        listCommon = c.most_common(1)[0]\n",
    "        print(str(itensColuna[i]) + \" | Valor: \" + str(listCommon[0]) + \" - Qtd: \" + str(listCommon[1]))"
   ]
  }
 ],
 "metadata": {
  "kernelspec": {
   "display_name": "Python [conda env:ambDanielFiep] *",
   "language": "python",
   "name": "conda-env-ambDanielFiep-py"
  },
  "language_info": {
   "codemirror_mode": {
    "name": "ipython",
    "version": 3
   },
   "file_extension": ".py",
   "mimetype": "text/x-python",
   "name": "python",
   "nbconvert_exporter": "python",
   "pygments_lexer": "ipython3",
   "version": "3.7.4"
  }
 },
 "nbformat": 4,
 "nbformat_minor": 2
}
